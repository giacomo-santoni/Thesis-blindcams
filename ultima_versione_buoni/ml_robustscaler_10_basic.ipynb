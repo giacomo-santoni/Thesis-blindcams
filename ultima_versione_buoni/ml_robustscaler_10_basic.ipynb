{
 "cells": [
  {
   "cell_type": "code",
   "execution_count": 1,
   "metadata": {},
   "outputs": [],
   "source": [
    "import drdf\n",
    "import matplotlib.pyplot as plt\n",
    "import numpy as np"
   ]
  },
  {
   "cell_type": "code",
   "execution_count": 2,
   "metadata": {},
   "outputs": [],
   "source": [
    "def load_drdf(fname):\n",
    "  reader = drdf.DRDF()\n",
    "  reader.read(fname)\n",
    "  events = []\n",
    "  for run in reader.runs:\n",
    "    for event in reader.runs[run]:\n",
    "      hits_map = dict()\n",
    "      for cam, img in reader.runs[run][event].items():\n",
    "        amplitude = img.pixels[:, :, 0] \n",
    "        time = img.pixels[:, :, 1]\n",
    "        hits_map[cam] = amplitude\n",
    "      events.append((event, hits_map))\n",
    "  return events"
   ]
  },
  {
   "cell_type": "code",
   "execution_count": 3,
   "metadata": {},
   "outputs": [],
   "source": [
    "file_drdf_list = [\"/Users/giacomosantoni/Desktop/TESI/Progetto_ML/blindcams/data/ML_blindcameras_10-01/response_1.drdf\", \"/Users/giacomosantoni/Desktop/TESI/Progetto_ML/blindcams/data/ML_blindcameras_10-01/response_2.drdf\"]\n",
    "file_root_list = [\"/Users/giacomosantoni/Desktop/TESI/Progetto_ML/blindcams/data/ML_blindcameras_10-01/input_files/sensors_1.root\", \"/Users/giacomosantoni/Desktop/TESI/Progetto_ML/blindcams/data/ML_blindcameras_10-01/input_files/sensors_2.root\"]"
   ]
  },
  {
   "cell_type": "code",
   "execution_count": 4,
   "metadata": {},
   "outputs": [],
   "source": [
    "more_drdf_files = [\"/Users/giacomosantoni/Desktop/TESI/Progetto_ML/blindcams/data/ML_blindcameras_10-01/response_3.drdf\", \"/Users/giacomosantoni/Desktop/TESI/Progetto_ML/blindcams/data/ML_blindcameras_10-01/response_4.drdf\", \"/Users/giacomosantoni/Desktop/TESI/Progetto_ML/blindcams/data/ML_blindcameras_10-01/response_5.drdf\", \"/Users/giacomosantoni/Desktop/TESI/Progetto_ML/blindcams/data/ML_blindcameras_10-01/response_6.drdf\", \"/Users/giacomosantoni/Desktop/TESI/Progetto_ML/blindcams/data/ML_blindcameras_10-01/response_7.drdf\", \"/Users/giacomosantoni/Desktop/TESI/Progetto_ML/blindcams/data/ML_blindcameras_10-01/response_8.drdf\", \"/Users/giacomosantoni/Desktop/TESI/Progetto_ML/blindcams/data/ML_blindcameras_10-01/response_9.drdf\", \"/Users/giacomosantoni/Desktop/TESI/Progetto_ML/blindcams/data/ML_blindcameras_10-01/response_10.drdf\"]\n",
    "more_root_files = [\"/Users/giacomosantoni/Desktop/TESI/Progetto_ML/blindcams/data/ML_blindcameras_10-01/input_files/sensors_3.root\", \"/Users/giacomosantoni/Desktop/TESI/Progetto_ML/blindcams/data/ML_blindcameras_10-01/input_files/sensors_4.root\", \"/Users/giacomosantoni/Desktop/TESI/Progetto_ML/blindcams/data/ML_blindcameras_10-01/input_files/sensors_5.root\", \"/Users/giacomosantoni/Desktop/TESI/Progetto_ML/blindcams/data/ML_blindcameras_10-01/input_files/sensors_6.root\", \"/Users/giacomosantoni/Desktop/TESI/Progetto_ML/blindcams/data/ML_blindcameras_10-01/input_files/sensors_7.root\", \"/Users/giacomosantoni/Desktop/TESI/Progetto_ML/blindcams/data/ML_blindcameras_10-01/input_files/sensors_8.root\", \"/Users/giacomosantoni/Desktop/TESI/Progetto_ML/blindcams/data/ML_blindcameras_10-01/input_files/sensors_9.root\", \"/Users/giacomosantoni/Desktop/TESI/Progetto_ML/blindcams/data/ML_blindcameras_10-01/input_files/sensors_10.root\"]"
   ]
  },
  {
   "cell_type": "code",
   "execution_count": 5,
   "metadata": {},
   "outputs": [],
   "source": [
    "def CamList(fname):\n",
    "    cam_list = []\n",
    "    file = load_drdf(fname)\n",
    "    for cam in file[0][1]:\n",
    "        cam_list.append(cam)\n",
    "    return cam_list"
   ]
  },
  {
   "cell_type": "code",
   "execution_count": 6,
   "metadata": {},
   "outputs": [],
   "source": [
    "#creo una matrice 1000 righe x 54 colonne. ogni elemento è una camera 32x32\n",
    "def AllImages(fname): \n",
    "    all_images_list = []\n",
    "    cam_list = CamList(fname)\n",
    "    file = load_drdf(fname)\n",
    "    for i in range(len(file)):\n",
    "        ph_matrix = []\n",
    "        for cam in cam_list:\n",
    "            ph_matrix.append(file[i][1][cam])\n",
    "        all_images_list.append(ph_matrix)\n",
    "    all_images = np.array(all_images_list)\n",
    "    return all_images"
   ]
  },
  {
   "cell_type": "code",
   "execution_count": 7,
   "metadata": {},
   "outputs": [],
   "source": [
    "def DimensionsData(fname):\n",
    "    file = AllImages(fname)\n",
    "    dimension_data = {\"nr_events\" : len(file), \"nr_pixels\" : len(file[0][0]), \"nr_cams\" : len(file[0]), \"nr_tot_events\" : len(file[0])*len(file)}\n",
    "    return dimension_data"
   ]
  },
  {
   "cell_type": "code",
   "execution_count": 8,
   "metadata": {},
   "outputs": [],
   "source": [
    "def PlotCamsImages(fname):\n",
    "    all_images = AllImages(fname)\n",
    "    file = load_drdf(fname)\n",
    "    cam_list = CamList(fname)\n",
    "    for i in range(len(all_images)):\n",
    "        #for cam in cam_list:\n",
    "        for j in range(len(all_images[i])):\n",
    "            plt.imshow(all_images[i][j], interpolation='none')\n",
    "            plt.colorbar()\n",
    "            plt.title(f\"event {file[i][0]} on {cam_list[j]}\")\n",
    "            plt.show()"
   ]
  },
  {
   "cell_type": "code",
   "execution_count": 9,
   "metadata": {},
   "outputs": [],
   "source": [
    "def Preprocessing(fname):\n",
    "    matrix = AllImages(fname)\n",
    "    dimension_data = DimensionsData(fname)\n",
    "    images = matrix.reshape(dimension_data[\"nr_tot_events\"], dimension_data[\"nr_pixels\"], dimension_data[\"nr_pixels\"])\n",
    "    return images"
   ]
  },
  {
   "cell_type": "code",
   "execution_count": 10,
   "metadata": {},
   "outputs": [],
   "source": [
    "def SumPhotons(fname):\n",
    "    tot_photons = []\n",
    "    all_images = Preprocessing(fname)\n",
    "    for j in all_images:\n",
    "        sum_ph = np.sum(j)\n",
    "        tot_photons.append(sum_ph)\n",
    "    return tot_photons"
   ]
  },
  {
   "cell_type": "markdown",
   "metadata": {},
   "source": [
    "ROOT"
   ]
  },
  {
   "cell_type": "code",
   "execution_count": 11,
   "metadata": {},
   "outputs": [
    {
     "name": "stdout",
     "output_type": "stream",
     "text": [
      "Welcome to JupyROOT 6.28/06\n"
     ]
    }
   ],
   "source": [
    "import ROOT as root\n",
    "\n",
    "def OpenRootFile(root_fname,fname):\n",
    "    #sensor1.root è il file; ogni camera è un TTree\n",
    "    input_file = root.TFile.Open(root_fname, \"READ\")\n",
    "\n",
    "    cam_list = CamList(fname)\n",
    "\n",
    "    inner_photons_in_all_cams_list = []\n",
    "    for cam in cam_list:\n",
    "        all_inner_photons = []\n",
    "        tree = input_file.Get(cam)\n",
    "        entries = tree.GetEntries()\n",
    "        for i in range(entries):\n",
    "            n = tree.GetEntry(i)\n",
    "            inner_photons = tree.innerPhotons\n",
    "            all_inner_photons.append(inner_photons)\n",
    "        inner_photons_in_all_cams_list.append(all_inner_photons)\n",
    "        root_file = np.array(inner_photons_in_all_cams_list)#ho creato una matrice 1000 colonne (nr eventi) x 54 righe (nr camere). I numeri che vediamo sono i numeri di fotoni che arrivano alla camera\n",
    "    return root_file"
   ]
  },
  {
   "cell_type": "code",
   "execution_count": 12,
   "metadata": {},
   "outputs": [],
   "source": [
    "def EventListNumber(fname):\n",
    "    file = load_drdf(fname)\n",
    "    ev_list = []\n",
    "    for i in range(len(file)):\n",
    "        ev_list.append(file[i][0])\n",
    "    return ev_list"
   ]
  },
  {
   "cell_type": "code",
   "execution_count": 13,
   "metadata": {},
   "outputs": [],
   "source": [
    "def RootDataDictionary(root_fname,fname):\n",
    "    root_file_tr = OpenRootFile(root_fname,fname)\n",
    "    ev_list = EventListNumber(fname)\n",
    "    root_file = root_file_tr.transpose()\n",
    "\n",
    "    cam_list = CamList(fname)\n",
    "\n",
    "    final_root_data = []\n",
    "    for i in range(len(root_file)):\n",
    "        nr_photon_in_cam = []\n",
    "        for j in range(len(root_file[i])):\n",
    "            nr_photon_in_cam.append(root_file[i][j])\n",
    "        dict_cam_ev = dict(zip(cam_list, nr_photon_in_cam))\n",
    "        final_root_data.append((ev_list[i], dict_cam_ev))\n",
    "    return final_root_data"
   ]
  },
  {
   "cell_type": "code",
   "execution_count": 14,
   "metadata": {},
   "outputs": [],
   "source": [
    "dataset_parameters = {\"ratio_thr\" : 0.1, \"sum_thr\" : 40}"
   ]
  },
  {
   "cell_type": "code",
   "execution_count": 15,
   "metadata": {},
   "outputs": [],
   "source": [
    "def InnerPhotonsList(root_fname,fname):\n",
    "    final_root_data = RootDataDictionary(root_fname, fname)\n",
    "    inner_photons_list = []\n",
    "    for i in range(len(final_root_data)):\n",
    "        for cam in final_root_data[i][1].keys():\n",
    "            inner_photons_list.append(final_root_data[i][1][cam])  \n",
    "    inner_photons_list = np.asarray(inner_photons_list)\n",
    "    return inner_photons_list\n",
    "\n",
    "def RootPreprocessing(root_fname,fname):\n",
    "    inner_photons_list = InnerPhotonsList(root_fname,fname)\n",
    "    tot_photons = SumPhotons(fname)\n",
    "    ratio_thr = dataset_parameters[\"ratio_thr\"]\n",
    "    \n",
    "    labels = []\n",
    "    for i in range(len(inner_photons_list)):\n",
    "        np.seterr(divide='ignore', invalid='ignore')\n",
    "        ratio = inner_photons_list[i]/tot_photons[i]\n",
    "        if ratio >= ratio_thr:\n",
    "            value = 1#acc\n",
    "        elif ratio < ratio_thr:\n",
    "            value = 0#non acc\n",
    "        labels.append(value)\n",
    "    return labels"
   ]
  },
  {
   "cell_type": "code",
   "execution_count": 16,
   "metadata": {},
   "outputs": [],
   "source": [
    "def PlotCamsImages(rname, fname):\n",
    "    all_images = AllImages(fname)\n",
    "    file = load_drdf(fname)\n",
    "    cam_list = CamList(fname)\n",
    "    inner_ph = RootDataDictionary(rname,fname)\n",
    "    for i in range(len(all_images)):\n",
    "        #for cam in cam_list:\n",
    "        for j in range(len(all_images[i])):\n",
    "            print(inner_ph[j])\n",
    "            plt.imshow(all_images[i][j], interpolation='none')\n",
    "            plt.colorbar()\n",
    "            plt.title(f\"event {file[i][0]} on {cam_list[j]}\")\n",
    "            plt.show()"
   ]
  },
  {
   "cell_type": "markdown",
   "metadata": {},
   "source": [
    "CNN MODEL"
   ]
  },
  {
   "cell_type": "code",
   "execution_count": 17,
   "metadata": {},
   "outputs": [],
   "source": [
    "import tensorflow as tf\n",
    "from tensorflow import keras\n",
    "from keras import layers, models\n",
    "from sklearn.model_selection import train_test_split\n",
    "from sklearn import metrics\n"
   ]
  },
  {
   "cell_type": "code",
   "execution_count": 18,
   "metadata": {},
   "outputs": [],
   "source": [
    "def Cut(root_fname: list, fname: list):\n",
    "    all_images = np.concatenate([Preprocessing(i) for i in fname]) \n",
    "    root_labels = np.concatenate([RootPreprocessing(root_fname[i],fname[i]) for i in range(len(fname))]) \n",
    "    inner_photons = np.concatenate([InnerPhotonsList(root_fname[i], fname[i]) for i in range(len(fname))])\n",
    "\n",
    "    indices_to_cut = []\n",
    "    i = 0\n",
    "    for image in all_images:\n",
    "        if np.sum(image)<dataset_parameters[\"sum_thr\"]:\n",
    "            indices_to_cut.append(i)\n",
    "        i += 1\n",
    "    return indices_to_cut, all_images, root_labels, inner_photons#, all_images_scaled"
   ]
  },
  {
   "cell_type": "code",
   "execution_count": 19,
   "metadata": {},
   "outputs": [],
   "source": [
    "def DatasetCut(rname: list, fname: list):\n",
    "    indices_to_cut, all_images, root_labels, inner_photons = Cut(rname, fname)\n",
    "    all_images_list = list(all_images)\n",
    "    root_labels_list = list(root_labels)\n",
    "    inner_photons_list = list(inner_photons)\n",
    "    #all_images_scaled_list = list(all_images_scaled)\n",
    "    \n",
    "    for i in sorted(indices_to_cut, reverse=True):\n",
    "        del all_images_list[i], root_labels_list[i], inner_photons_list[i]#, all_images_scaled_list[i]\n",
    "\n",
    "    data_cut = np.array(all_images_list)\n",
    "    root_cut = np.array(root_labels_list)\n",
    "    inner_photons_cut = np.array(inner_photons_list)\n",
    "    #data_scaled_cut = np.array(all_images_scaled_list)\n",
    "\n",
    "    data_cut = data_cut.reshape(data_cut.shape[0],32,32,1)\n",
    "    #data_scaled_cut = data_scaled_cut.reshape(data_scaled_cut.shape[0],32,32,1)\n",
    "\n",
    "    return data_cut, root_cut, inner_photons_cut#, data_scaled_cut"
   ]
  },
  {
   "cell_type": "code",
   "execution_count": 20,
   "metadata": {},
   "outputs": [],
   "source": [
    "data_cut, root_cut, inner_photons_cut = DatasetCut(file_root_list, file_drdf_list)"
   ]
  },
  {
   "cell_type": "code",
   "execution_count": 21,
   "metadata": {},
   "outputs": [],
   "source": [
    "def FindDazzledEvents(labels,images):\n",
    "    # ev_cam_state = RootPreprocessing(rname,fname)\n",
    "    # data_prep = PreprocessWithScaling(fname)\n",
    "    n = 0\n",
    "    nr_dazzled_events = []\n",
    "    dazzled_events = []\n",
    "    for l in labels:\n",
    "        if l == 1:\n",
    "            nr_dazzled_events.append(n)\n",
    "        n+=1\n",
    "    for i in nr_dazzled_events:\n",
    "        dazzled_events.append(images[i])\n",
    "    return nr_dazzled_events, dazzled_events"
   ]
  },
  {
   "cell_type": "code",
   "execution_count": 22,
   "metadata": {},
   "outputs": [],
   "source": [
    "#dagli altri 8 file non usati prendo le camere accecate\n",
    "other_images = np.concatenate([Preprocessing(i) for i in more_drdf_files]) \n",
    "other_labels = np.concatenate([RootPreprocessing(more_root_files[i],more_drdf_files[i]) for i in range(len(more_drdf_files))]) "
   ]
  },
  {
   "cell_type": "code",
   "execution_count": 23,
   "metadata": {},
   "outputs": [
    {
     "data": {
      "text/plain": [
       "6926"
      ]
     },
     "execution_count": 23,
     "metadata": {},
     "output_type": "execute_result"
    }
   ],
   "source": [
    "_, other_dazzled_events = FindDazzledEvents(other_labels, other_images)\n",
    "other_dazzled_labels = np.asarray(len(other_dazzled_events)*[1])\n",
    "len(other_dazzled_events)"
   ]
  },
  {
   "cell_type": "code",
   "execution_count": 24,
   "metadata": {},
   "outputs": [
    {
     "data": {
      "text/plain": [
       "1830"
      ]
     },
     "execution_count": 24,
     "metadata": {},
     "output_type": "execute_result"
    }
   ],
   "source": [
    "_, dazzled_cut = FindDazzledEvents(root_cut, data_cut)\n",
    "len(dazzled_cut)"
   ]
  },
  {
   "cell_type": "code",
   "execution_count": 25,
   "metadata": {},
   "outputs": [],
   "source": [
    "# for dazz_ev in dazzled_cut:\n",
    "#     plt.imshow(dazz_ev)\n",
    "#     plt.colorbar()\n",
    "#     plt.show()"
   ]
  },
  {
   "cell_type": "code",
   "execution_count": 26,
   "metadata": {},
   "outputs": [],
   "source": [
    "#aggiungo le camere accecate al resto delle camere\n",
    "sim_data = np.concatenate((np.squeeze(data_cut), np.asarray(other_dazzled_events)))\n",
    "all_labels = np.concatenate((root_cut, other_dazzled_labels))\n",
    "\n",
    "sim_data = sim_data.reshape(len(sim_data),32,32,1)"
   ]
  },
  {
   "cell_type": "code",
   "execution_count": 27,
   "metadata": {},
   "outputs": [],
   "source": [
    "def PrepareData():#(root_fname: list, fname: list):\n",
    "    #data_cut, root_cut, inner_photons_cut = DatasetCut(root_fname, fname)\n",
    "    t_ds, val_ds, t_labels, val_labels = train_test_split(sim_data, all_labels, train_size=0.9, random_state=42)\n",
    "    train_ds, test_ds, train_labels, test_labels = train_test_split(t_ds, t_labels, train_size=0.89, random_state=42)\n",
    "\n",
    "    train_ds = np.asarray(train_ds)\n",
    "    val_ds = np.asarray(val_ds)\n",
    "    test_ds = np.asarray(test_ds)\n",
    "\n",
    "    train_ds = train_ds.reshape(train_ds.shape[0], 32, 32,1)\n",
    "    val_ds = val_ds.reshape(val_ds.shape[0], 32, 32, 1)\n",
    "    test_ds = test_ds.reshape(test_ds.shape[0],32,32,1)\n",
    "\n",
    "    return train_ds, val_ds, test_ds, train_labels, val_labels, test_labels"
   ]
  },
  {
   "cell_type": "code",
   "execution_count": 28,
   "metadata": {},
   "outputs": [],
   "source": [
    "def TrainAugmentation(labels, images):\n",
    "    input_shape = [32,32,32,1]\n",
    "    data_augmentation = keras.Sequential()\n",
    "    data_augmentation.add(layers.RandomFlip(\"horizontal\", input_shape=input_shape[1:]))\n",
    "    data_augmentation.add(layers.RandomRotation(0.2))\n",
    "    #data_augmentation.add(layers.RandomTranslation(0.2,0.2))\n",
    "    data_augmentation.add(layers.RandomZoom(0.8))\n",
    "    \n",
    "    _, dazzled_events = FindDazzledEvents(labels,images)\n",
    "\n",
    "    augmented_ds = []\n",
    "    for blind_im in dazzled_events:\n",
    "        for i in range(7):\n",
    "            augmented_image = data_augmentation(blind_im)\n",
    "            augmented_image_sq = np.squeeze(augmented_image, axis=3)\n",
    "            augmented_ds.append(augmented_image_sq)\n",
    "    augmented_ds = np.asarray(augmented_ds)\n",
    "\n",
    "    augmented_labels = len(augmented_ds)*[1]\n",
    "    return augmented_ds, augmented_labels"
   ]
  },
  {
   "cell_type": "code",
   "execution_count": 29,
   "metadata": {},
   "outputs": [],
   "source": [
    "def ValAugmentation(labels, images):\n",
    "    input_shape = [32,32,32,1]\n",
    "    data_augmentation = keras.Sequential()\n",
    "    data_augmentation.add(layers.RandomFlip(\"horizontal\", input_shape=input_shape[1:]))\n",
    "    data_augmentation.add(layers.RandomRotation(0.2))\n",
    "    #data_augmentation.add(layers.RandomTranslation(0.2,0.2))\n",
    "    data_augmentation.add(layers.RandomZoom(0.8))\n",
    "    \n",
    "    _, dazzled_events = FindDazzledEvents(labels,images)\n",
    "\n",
    "    augmented_ds = []\n",
    "    for blind_im in dazzled_events[:1200]:\n",
    "        for i in range(6):\n",
    "            augmented_image = data_augmentation(blind_im)\n",
    "            augmented_image_sq = np.squeeze(augmented_image, axis=3)\n",
    "            augmented_ds.append(augmented_image_sq)\n",
    "    augmented_ds = np.asarray(augmented_ds)\n",
    "\n",
    "    augmented_labels = len(augmented_ds)*[1]\n",
    "    return augmented_ds, augmented_labels"
   ]
  },
  {
   "cell_type": "code",
   "execution_count": 30,
   "metadata": {},
   "outputs": [],
   "source": [
    "def TrainsetwithAugmentation(labels, images, array_to_augment, labels_to_augment):\n",
    "    #train_ds,_,_, train_labels, _,_ = PrepareData()\n",
    "    augmention_ds, augmention_labels = TrainAugmentation(labels, images)\n",
    "    ds_aug = np.concatenate((array_to_augment,augmention_ds),axis=0)\n",
    "    labels_aug = np.concatenate((labels_to_augment,augmention_labels),axis=0)\n",
    "    return ds_aug, labels_aug\n",
    "\n",
    "def ValsetwithAugmentation(labels, images, array_to_augment, labels_to_augment):\n",
    "    #train_ds,_,_, train_labels, _,_ = PrepareData()\n",
    "    augmention_ds, augmention_labels = ValAugmentation(labels, images)\n",
    "    ds_aug = np.concatenate((array_to_augment,augmention_ds),axis=0)\n",
    "    labels_aug = np.concatenate((labels_to_augment,augmention_labels),axis=0)\n",
    "    return ds_aug, labels_aug"
   ]
  },
  {
   "cell_type": "code",
   "execution_count": 31,
   "metadata": {},
   "outputs": [],
   "source": [
    "def DatasetWeights(labels, images):\n",
    "    nr_dazzled_events1, dazzled_events1 = FindDazzledEvents(labels, images)\n",
    "\n",
    "    #augmented_ds, augmented_labels = Augmentation(labels, images)\n",
    "    \n",
    "    nr_dazzled_ev = len(nr_dazzled_events1) #+ len(augmented_ds) #+ len(nr_blind_events4) + len(nr_blind_events2) + len(nr_blind_events3)\n",
    "    nr_tot_ev = len(labels) #+ len(augmented_ds)#nr_tot_events1 + nr_tot_events2 + nr_tot_events3 + nr_tot_events4 + len(augmented_ds) - len(root_to)\n",
    "    nr_not_dazzled_ev = nr_tot_ev - nr_dazzled_ev\n",
    "\n",
    "    initial_bias = np.log(nr_dazzled_ev/nr_not_dazzled_ev)\n",
    "\n",
    "    weights_0 = (1/nr_not_dazzled_ev)*(nr_tot_ev/2)\n",
    "    weights_1 = (1/nr_dazzled_ev)*(nr_tot_ev/2)\n",
    "    weights_classes = {0: weights_0, 1: weights_1}\n",
    "\n",
    "    percentage = {0: nr_not_dazzled_ev/nr_tot_ev, 1: nr_dazzled_ev/nr_tot_ev}\n",
    "\n",
    "    return initial_bias, weights_classes, percentage"
   ]
  },
  {
   "cell_type": "code",
   "execution_count": 32,
   "metadata": {},
   "outputs": [],
   "source": [
    "train_ds, val_ds, test_ds, train_labels, val_labels, test_labels = PrepareData()"
   ]
  },
  {
   "cell_type": "code",
   "execution_count": 33,
   "metadata": {},
   "outputs": [],
   "source": [
    "train_ds_aug, train_labels_aug = TrainsetwithAugmentation(all_labels, sim_data, train_ds, train_labels)"
   ]
  },
  {
   "cell_type": "code",
   "execution_count": 34,
   "metadata": {},
   "outputs": [],
   "source": [
    "val_ds_aug, val_labels_aug = ValsetwithAugmentation(all_labels, sim_data, val_ds, val_labels)"
   ]
  },
  {
   "cell_type": "code",
   "execution_count": 35,
   "metadata": {},
   "outputs": [],
   "source": [
    "train_initial_bias, train_weights_classes, train_percentage = DatasetWeights(train_labels_aug, train_ds_aug)\n",
    "val_initial_bias, val_weights_classes, val_percentage = DatasetWeights(val_labels_aug, val_ds_aug)"
   ]
  },
  {
   "cell_type": "code",
   "execution_count": 36,
   "metadata": {},
   "outputs": [
    {
     "name": "stdout",
     "output_type": "stream",
     "text": [
      "train: {0: 0.5216605866248416, 1: 0.4783394133751584}\n",
      "val:  {0: 0.5382358018297946, 1: 0.4617641981702054}\n"
     ]
    }
   ],
   "source": [
    "print('train:', train_percentage)\n",
    "print('val: ', val_percentage)"
   ]
  },
  {
   "cell_type": "code",
   "execution_count": 37,
   "metadata": {},
   "outputs": [
    {
     "name": "stdout",
     "output_type": "stream",
     "text": [
      "train:  {0: 0.9584776247617514, 1: 1.0452828807728902}\n",
      "val {0: 0.9289608723540731, 1: 1.082803738317757}\n"
     ]
    }
   ],
   "source": [
    "print('train: ', train_weights_classes)\n",
    "print('val', val_weights_classes)"
   ]
  },
  {
   "cell_type": "code",
   "execution_count": 38,
   "metadata": {},
   "outputs": [],
   "source": [
    "#PARAMETERS for NN\n",
    "CNNparameters = {\"batch_size\" : 32, \"epochs\" : 10, \"input_shape\" : [32,32,32,1], \"metric\" : keras.metrics.F1Score(threshold=0.5), \"loss_func\" : tf.keras.losses.BinaryCrossentropy(), \"callback\" : tf.keras.callbacks.EarlyStopping(patience=0)}"
   ]
  },
  {
   "cell_type": "code",
   "execution_count": 39,
   "metadata": {},
   "outputs": [],
   "source": [
    "def Training(rname: list, fname: list): \n",
    "    #initial_bias, weights_classes = DatasetWeights(rname,fname)\n",
    "    #input_shape = [32,32,32,1]\n",
    "    output_bias = keras.initializers.Constant(train_initial_bias)\n",
    "\n",
    "    model = models.Sequential([\n",
    "    # Flatten layer per trasformare l'immagine in un vettore\n",
    "    layers.Conv2D(128, (3,3), activation='relu',padding='same', input_shape = CNNparameters[\"input_shape\"][1:]),\n",
    "    layers.MaxPooling2D((2,2)),\n",
    "\n",
    "    layers.Conv2D(64, (3,3), activation='relu',padding='same'),\n",
    "    layers.MaxPooling2D((2,2)),\n",
    "    #layers.Dropout(0.2),\n",
    "    \n",
    "    layers.Conv2D(32, (3,3), activation='relu', padding='same'),#input_shape = input_shape[1:]),\n",
    "    layers.MaxPooling2D((2,2)),\n",
    "    #layers.Dropout(0.2),\n",
    "\n",
    "    layers.Conv2D(16, (3,3), activation='relu', padding='same'),#input_shape = input_shape[1:]),\n",
    "    layers.MaxPooling2D((2,2)),\n",
    "    #layers.Dropout(0.2),\n",
    "\n",
    "    # layers.Conv2D(8, (3,3), activation='relu', padding='same'),#input_shape = input_shape[1:]),\n",
    "    # layers.MaxPooling2D((2,2)),\n",
    "    # #layers.Dropout(0.2),\n",
    "\n",
    "    layers.Flatten(),#(input_shape = input_shape[1:]),\n",
    "    \n",
    "    # Dense layers per la parte completamente connessa della rete\n",
    "    layers.Dense(128, activation='relu', bias_initializer=output_bias, kernel_regularizer=keras.regularizers.l2(0.001)),\n",
    "    #layers.Dropout(0.2),\n",
    "    layers.Dense(64,activation='relu', kernel_regularizer=keras.regularizers.l2(0.001)),\n",
    "    #layers.Dropout(0.2),\n",
    "    layers.Dense(32,activation='relu', kernel_regularizer=keras.regularizers.l2(0.001)),\n",
    "    layers.Dense(16,activation='relu', kernel_regularizer=keras.regularizers.l2(0.001)),\n",
    "    #layers.Dense(8,activation='relu', kernel_regularizer=keras.regularizers.l2(0.001)),\n",
    "    \n",
    "    # Output layer con un neurone e attivazione sigmoide per classificazione binaria\n",
    "    layers.Dense(1, activation='sigmoid')\n",
    "])\n",
    "    model.compile(optimizer= 'adam', loss=CNNparameters[\"loss_func\"], metrics=CNNparameters[\"metric\"])#'adam')\n",
    "    model.summary()\n",
    "    return model\n"
   ]
  },
  {
   "cell_type": "code",
   "execution_count": 40,
   "metadata": {},
   "outputs": [
    {
     "name": "stderr",
     "output_type": "stream",
     "text": [
      "WARNING:absl:At this time, the v2.11+ optimizer `tf.keras.optimizers.Adam` runs slowly on M1/M2 Macs, please use the legacy Keras optimizer instead, located at `tf.keras.optimizers.legacy.Adam`.\n"
     ]
    },
    {
     "name": "stdout",
     "output_type": "stream",
     "text": [
      "Model: \"sequential_2\"\n",
      "_________________________________________________________________\n",
      " Layer (type)                Output Shape              Param #   \n",
      "=================================================================\n",
      " conv2d (Conv2D)             (None, 32, 32, 128)       1280      \n",
      "                                                                 \n",
      " max_pooling2d (MaxPooling2  (None, 16, 16, 128)       0         \n",
      " D)                                                              \n",
      "                                                                 \n",
      " conv2d_1 (Conv2D)           (None, 16, 16, 64)        73792     \n",
      "                                                                 \n",
      " max_pooling2d_1 (MaxPoolin  (None, 8, 8, 64)          0         \n",
      " g2D)                                                            \n",
      "                                                                 \n",
      " conv2d_2 (Conv2D)           (None, 8, 8, 32)          18464     \n",
      "                                                                 \n",
      " max_pooling2d_2 (MaxPoolin  (None, 4, 4, 32)          0         \n",
      " g2D)                                                            \n",
      "                                                                 \n",
      " conv2d_3 (Conv2D)           (None, 4, 4, 16)          4624      \n",
      "                                                                 \n",
      " max_pooling2d_3 (MaxPoolin  (None, 2, 2, 16)          0         \n",
      " g2D)                                                            \n",
      "                                                                 \n",
      " flatten (Flatten)           (None, 64)                0         \n",
      "                                                                 \n",
      " dense (Dense)               (None, 128)               8320      \n",
      "                                                                 \n",
      " dense_1 (Dense)             (None, 64)                8256      \n",
      "                                                                 \n",
      " dense_2 (Dense)             (None, 32)                2080      \n",
      "                                                                 \n",
      " dense_3 (Dense)             (None, 16)                528       \n",
      "                                                                 \n",
      " dense_4 (Dense)             (None, 1)                 17        \n",
      "                                                                 \n",
      "=================================================================\n",
      "Total params: 117361 (458.44 KB)\n",
      "Trainable params: 117361 (458.44 KB)\n",
      "Non-trainable params: 0 (0.00 Byte)\n",
      "_________________________________________________________________\n"
     ]
    }
   ],
   "source": [
    "model = Training(file_root_list, file_drdf_list)"
   ]
  },
  {
   "cell_type": "code",
   "execution_count": 41,
   "metadata": {},
   "outputs": [
    {
     "name": "stdout",
     "output_type": "stream",
     "text": [
      "Epoch 1/10\n",
      "4464/4464 [==============================] - 141s 31ms/step - loss: 0.1603 - f1_score: 0.9645 - val_loss: 0.1186 - val_f1_score: 0.9700\n",
      "Epoch 2/10\n",
      "4464/4464 [==============================] - 149s 33ms/step - loss: 0.0774 - f1_score: 0.9803 - val_loss: 0.1018 - val_f1_score: 0.9738\n",
      "Epoch 3/10\n",
      "4464/4464 [==============================] - 145s 33ms/step - loss: 0.0641 - f1_score: 0.9833 - val_loss: 0.0615 - val_f1_score: 0.9830\n",
      "Epoch 4/10\n",
      "4464/4464 [==============================] - 145s 32ms/step - loss: 0.0620 - f1_score: 0.9829 - val_loss: 0.0575 - val_f1_score: 0.9835\n",
      "Epoch 5/10\n",
      "4464/4464 [==============================] - 146s 33ms/step - loss: 0.0603 - f1_score: 0.9840 - val_loss: 0.0629 - val_f1_score: 0.9829\n"
     ]
    }
   ],
   "source": [
    "#callbacks = [keras.callbacks.ModelCheckpoint(\"/Users/giacomosantoni/Desktop/TESI/Progetto_ML/blindcams/ultima_versione_buoni/tf_model_new/cams_model_new.keras\")]\n",
    "train_labels_aug = train_labels_aug.astype(np.float32)\n",
    "val_labels_aug = val_labels_aug.astype(np.float32)\n",
    "history = model.fit(train_ds_aug, train_labels_aug, validation_data= (val_ds_aug, val_labels_aug), epochs=CNNparameters[\"epochs\"], callbacks=CNNparameters[\"callback\"], batch_size=CNNparameters[\"batch_size\"], class_weight=val_weights_classes)#"
   ]
  },
  {
   "cell_type": "code",
   "execution_count": 42,
   "metadata": {},
   "outputs": [],
   "source": [
    "saved_model = model.save(\"/Users/giacomosantoni/Desktop/TESI/Progetto_ML/blindcams/ultima_versione_buoni/tf_model_new/cams_model_aug3_nuovo.keras\")"
   ]
  },
  {
   "cell_type": "code",
   "execution_count": 43,
   "metadata": {},
   "outputs": [
    {
     "name": "stdout",
     "output_type": "stream",
     "text": [
      "315/315 [==============================] - 3s 9ms/step\n"
     ]
    }
   ],
   "source": [
    "test_ds = test_ds.reshape(test_ds.shape[0], 32, 32, 1)\n",
    "predictions_test = model.predict(test_ds)\n",
    "predictions = np.squeeze(predictions_test)\n",
    "\n",
    "i = 0\n",
    "predictions_test_approx = []\n",
    "for value in predictions:\n",
    "    value_approx = int(round(value,0))\n",
    "    predictions_test_approx.append(value_approx)\n",
    "\n",
    "predictions_test_approx = np.asarray(predictions_test_approx)"
   ]
  },
  {
   "cell_type": "code",
   "execution_count": 44,
   "metadata": {},
   "outputs": [],
   "source": [
    "_,_,test_percentage = DatasetWeights(test_labels, test_ds)"
   ]
  },
  {
   "cell_type": "code",
   "execution_count": 45,
   "metadata": {},
   "outputs": [
    {
     "data": {
      "text/plain": [
       "{0: 0.9098938176044458, 1: 0.09010618239555424}"
      ]
     },
     "execution_count": 45,
     "metadata": {},
     "output_type": "execute_result"
    }
   ],
   "source": [
    "test_percentage"
   ]
  },
  {
   "cell_type": "code",
   "execution_count": 46,
   "metadata": {},
   "outputs": [
    {
     "name": "stdout",
     "output_type": "stream",
     "text": [
      "[[9115   54]\n",
      " [ 210  698]]\n",
      "0.8409638554216867\n"
     ]
    },
    {
     "data": {
      "image/png": "[encoded data removed]",
      "text/plain": [
       "<Figure size 640x480 with 2 Axes>"
      ]
     },
     "metadata": {},
     "output_type": "display_data"
    }
   ],
   "source": [
    "cm_test = metrics.confusion_matrix(test_labels, predictions_test_approx)\n",
    "print(cm_test)\n",
    "cm_display = metrics.ConfusionMatrixDisplay(cm_test).plot()\n",
    "F1 = metrics.f1_score(test_labels, predictions_test_approx, average = 'binary')\n",
    "print(F1)"
   ]
  },
  {
   "cell_type": "code",
   "execution_count": 47,
   "metadata": {},
   "outputs": [
    {
     "data": {
      "image/png": "[encoded data removed]",
      "text/plain": [
       "<Figure size 800x800 with 2 Axes>"
      ]
     },
     "metadata": {},
     "output_type": "display_data"
    }
   ],
   "source": [
    "f1_score = history.history['f1_score']\n",
    "val_f1_score = history.history['val_f1_score']\n",
    "\n",
    "loss = history.history['loss']\n",
    "val_loss = history.history['val_loss']\n",
    "\n",
    "epochs_range = range(CNNparameters[\"epochs\"])\n",
    "\n",
    "plt.figure(figsize=(8, 8))\n",
    "plt.subplot(2, 1, 1)\n",
    "plt.plot(range(len(f1_score)), f1_score, label='Train')\n",
    "plt.plot(range(len(f1_score)), val_f1_score, label='Validation')\n",
    "plt.legend(loc='lower right')\n",
    "plt.title('Training and Validation F1 Score')\n",
    "\n",
    "plt.subplot(2, 1, 2)\n",
    "plt.plot(range(len(f1_score)), loss, label='Train')\n",
    "plt.plot(range(len(f1_score)), val_loss, label='Validation')\n",
    "plt.legend(loc='upper right')\n",
    "plt.title('Training and Validation Loss')\n",
    "plt.show()"
   ]
  },
  {
   "cell_type": "code",
   "execution_count": 48,
   "metadata": {},
   "outputs": [],
   "source": [
    "tp = []\n",
    "fp = []\n",
    "fn = []\n",
    "tn = []\n",
    "\n",
    "for i in range(len(test_ds)):\n",
    "    if test_labels[i] == 1 and predictions_test_approx[i] == 1:\n",
    "        tp.append(i)\n",
    "\n",
    "for i in range(len(test_ds)):\n",
    "    if test_labels[i] == 0 and predictions_test_approx[i] == 1:\n",
    "        fp.append(i)\n",
    "\n",
    "for i in range(len(test_ds)):\n",
    "    if test_labels[i] == 1 and predictions_test_approx[i] == 0:\n",
    "        fn.append(i)\n",
    "\n",
    "for i in range(len(test_ds)):\n",
    "    if test_labels[i] == 0 and predictions_test_approx[i] == 0:\n",
    "        tn.append(i)"
   ]
  },
  {
   "cell_type": "code",
   "execution_count": 49,
   "metadata": {},
   "outputs": [],
   "source": [
    "# for i in fn:\n",
    "#     plt.imshow(test_ds[i])\n",
    "#     plt.colorbar()\n",
    "#     plt.show()"
   ]
  },
  {
   "cell_type": "code",
   "execution_count": 50,
   "metadata": {},
   "outputs": [],
   "source": [
    "import sys\n",
    "\n",
    "original_stdout = sys.stdout # Save a reference to the original standard output\n",
    "\n",
    "with open('new_results.txt', 'a') as f:\n",
    "    sys.stdout = f # Change the standard output to the file we created.\n",
    "    model.summary()\n",
    "    print(\"ratio_thr, sum_thr, perc_val, perc_train: \", dataset_parameters)\n",
    "    print(\"batch_size, epochs, input_shape, metric,loss_func: \", CNNparameters)\n",
    "    print(cm_test)\n",
    "    print(\"F1 score: \", F1)\n",
    "    sys.stdout = original_stdout # Reset the standard output to its original value"
   ]
  }
 ],
 "metadata": {
  "kernelspec": {
   "display_name": "Python 3",
   "language": "python",
   "name": "python3"
  },
  "language_info": {
   "codemirror_mode": {
    "name": "ipython",
    "version": 3
   },
   "file_extension": ".py",
   "mimetype": "text/x-python",
   "name": "python",
   "nbconvert_exporter": "python",
   "pygments_lexer": "ipython3",
   "version": "3.11.6"
  },
  "orig_nbformat": 4
 },
 "nbformat": 4,
 "nbformat_minor": 2
}
