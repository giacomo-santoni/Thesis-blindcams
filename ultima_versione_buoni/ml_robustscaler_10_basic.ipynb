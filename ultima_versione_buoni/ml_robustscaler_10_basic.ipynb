{
 "cells": [
  {
   "cell_type": "code",
   "execution_count": 1,
   "metadata": {},
   "outputs": [],
   "source": [
    "import drdf\n",
    "import matplotlib.pyplot as plt\n",
    "import numpy as np"
   ]
  },
  {
   "cell_type": "code",
   "execution_count": 2,
   "metadata": {},
   "outputs": [],
   "source": [
    "def load_drdf(fname):\n",
    "  reader = drdf.DRDF()\n",
    "  reader.read(fname)\n",
    "  events = []\n",
    "  for run in reader.runs:\n",
    "    for event in reader.runs[run]:\n",
    "      hits_map = dict()\n",
    "      for cam, img in reader.runs[run][event].items():\n",
    "        amplitude = img.pixels[:, :, 0] \n",
    "        time = img.pixels[:, :, 1]\n",
    "        hits_map[cam] = amplitude\n",
    "      events.append((event, hits_map))\n",
    "  return events"
   ]
  },
  {
   "cell_type": "code",
   "execution_count": 3,
   "metadata": {},
   "outputs": [],
   "source": [
    "#file_drdf_list = [\"/Users/giacomosantoni/Desktop/TESI/Progetto_ML/blindcams/data/initial_data_good/response.drdf\",\"/Users/giacomosantoni/Desktop/TESI/Progetto_ML/blindcams/data/new_data/response_pde25.drdf\",\"/Users/giacomosantoni/Desktop/TESI/Progetto_ML/blindcams/data/new_data2/response.drdf\",\"/Users/giacomosantoni/Desktop/TESI/Progetto_ML/blindcams/data/new_data3/response.drdf\"]\n",
    "#file_root_list = [\"/Users/giacomosantoni/Desktop/TESI/Progetto_ML/blindcams/data/initial_data_good/sensors.root\",\"/Users/giacomosantoni/Desktop/TESI/Progetto_ML/blindcams/data/new_data/sensors_pde25.root\",\"/Users/giacomosantoni/Desktop/TESI/Progetto_ML/blindcams/data/new_data2/sensors.root\",\"/Users/giacomosantoni/Desktop/TESI/Progetto_ML/blindcams/data/new_data3/sensors.root\"]\n",
    "\n",
    "file_drdf_list = [\"/Users/giacomosantoni/Desktop/TESI/Progetto_ML/blindcams/data/good_data_last1/response.drdf\", \"/Users/giacomosantoni/Desktop/TESI/Progetto_ML/blindcams/data/good_data_last2/response.drdf\"]\n",
    "file_root_list = [\"/Users/giacomosantoni/Desktop/TESI/Progetto_ML/blindcams/data/good_data_last1/sensors.root\", \"/Users/giacomosantoni/Desktop/TESI/Progetto_ML/blindcams/data/good_data_last2/sensors.root\"]"
   ]
  },
  {
   "cell_type": "code",
   "execution_count": 4,
   "metadata": {},
   "outputs": [],
   "source": [
    "def CamList(fname):\n",
    "    cam_list = []\n",
    "    file = load_drdf(fname)\n",
    "    for cam in file[0][1]:\n",
    "        cam_list.append(cam)\n",
    "    return cam_list"
   ]
  },
  {
   "cell_type": "code",
   "execution_count": 5,
   "metadata": {},
   "outputs": [],
   "source": [
    "#creo una matrice 1000 righe x 54 colonne. ogni elemento è una camera 31x31\n",
    "def AllImages(fname): \n",
    "    all_images_list = []\n",
    "    cam_list = CamList(fname)\n",
    "    file = load_drdf(fname)\n",
    "    for i in range(len(file)):\n",
    "        ph_matrix = []\n",
    "        for cam in cam_list:\n",
    "            ph_matrix.append(file[i][1][cam])\n",
    "        all_images_list.append(ph_matrix)\n",
    "    all_images = np.array(all_images_list)\n",
    "    return all_images"
   ]
  },
  {
   "cell_type": "code",
   "execution_count": 6,
   "metadata": {},
   "outputs": [],
   "source": [
    "def DimensionsData(fname):\n",
    "    all_images = AllImages(fname)\n",
    "    cam_list = CamList(fname)\n",
    "    nr_events = len(all_images)\n",
    "    nr_pixels = len(all_images[0][0])\n",
    "    nr_cams = len(cam_list)\n",
    "    nr_tot_events = nr_cams*nr_events\n",
    "    nr_pixels_1_ev = nr_pixels*nr_pixels*nr_cams\n",
    "    return nr_events, nr_pixels, nr_cams, nr_tot_events, nr_pixels_1_ev"
   ]
  },
  {
   "cell_type": "code",
   "execution_count": 7,
   "metadata": {},
   "outputs": [],
   "source": [
    "#creo una matrice di 1000 righe e 51894 colonne. Così per ogni evento, la riga corrispondente presenta tutti i pixel di tutte le camere\n",
    "def PixelsAllCamsPerEvents(fname):\n",
    "    all_images = AllImages(fname)\n",
    "    nr_events, nr_pixels, nr_cams, nr_tot_events, nr_pixels_1_ev = DimensionsData(fname)\n",
    "    pixels_to_scale = []\n",
    "    for images_all_cams_per_ev in all_images: \n",
    "        pixels_all_cams_per_ev = images_all_cams_per_ev.flatten()\n",
    "        pixels_to_scale.append(pixels_all_cams_per_ev)\n",
    "    pixels_to_scale = np.asarray(pixels_to_scale)\n",
    "    pixels_to_scale_matrix = pixels_to_scale.reshape(nr_events,nr_pixels_1_ev,1)\n",
    "    return pixels_to_scale_matrix"
   ]
  },
  {
   "cell_type": "code",
   "execution_count": 8,
   "metadata": {},
   "outputs": [],
   "source": [
    "def PlotCamsImages(fname):\n",
    "    all_images = AllImages(fname)\n",
    "    file = load_drdf(fname)\n",
    "    cam_list = CamList(fname)\n",
    "    for i in range(len(all_images)):\n",
    "        #for cam in cam_list:\n",
    "        for j in range(len(all_images[i])):\n",
    "            plt.imshow(all_images[i][j], interpolation='none')\n",
    "            plt.colorbar()\n",
    "            plt.title(f\"event {file[i][0]} on {cam_list[j]}\")\n",
    "            plt.show()"
   ]
  },
  {
   "cell_type": "markdown",
   "metadata": {},
   "source": [
    "SCALING DATA"
   ]
  },
  {
   "cell_type": "code",
   "execution_count": 9,
   "metadata": {},
   "outputs": [],
   "source": [
    "from sklearn.preprocessing import RobustScaler\n",
    "\n",
    "#applico lo scaling su vettori colonne che sono le camere 31x31 appiattite\n",
    "def ScalingData(fname):\n",
    "    pixels_to_scale_matrix = PixelsAllCamsPerEvents(fname)\n",
    "    nr_events, nr_pixels, nr_cams, nr_tot_events, nr_pixels_1_ev = DimensionsData(fname)\n",
    "    photons_scaled_all_ev = []\n",
    "    for pixels in pixels_to_scale_matrix:\n",
    "        transformer = RobustScaler().fit(pixels)\n",
    "        photons_scaled_in_cam = transformer.transform(pixels)\n",
    "        photons_scaled_all_ev.append(photons_scaled_in_cam)\n",
    "    photons_scaled_all_ev_matrix = np.asarray(photons_scaled_all_ev)\n",
    "    all_images_scaled = photons_scaled_all_ev_matrix.reshape(nr_events,nr_cams,nr_pixels,nr_pixels)\n",
    "    return all_images_scaled"
   ]
  },
  {
   "cell_type": "code",
   "execution_count": 10,
   "metadata": {},
   "outputs": [],
   "source": [
    "#ora ho una matrice 1000righex54colonne dove un elemento è una matrice 31x31. Per essere consistente con i dati di root la voglio trasformare in un array di 54000 elementi\n",
    "def Flattening(fname):\n",
    "    all_images_scaled = ScalingData(fname)\n",
    "    all_images_scaled_1d = []\n",
    "    for sublist in all_images_scaled:\n",
    "        all_images_scaled_1d.extend(sublist)\n",
    "    return all_images_scaled_1d"
   ]
  },
  {
   "cell_type": "code",
   "execution_count": 11,
   "metadata": {},
   "outputs": [],
   "source": [
    "def Reshaping(fname):\n",
    "    all_images_scaled_1d_reshaped = []\n",
    "    all_images = AllImages(fname)\n",
    "    all_images_scaled_1d = Flattening(fname)\n",
    "    nr_events, nr_pixels, nr_cams, nr_tot_events, nr_pixels_1_ev = DimensionsData(fname)\n",
    "    for data in all_images_scaled_1d:\n",
    "        data_new = data.reshape(nr_pixels,nr_pixels,1)\n",
    "        all_images_scaled_1d_reshaped.append(data_new)\n",
    "    return all_images_scaled_1d_reshaped"
   ]
  },
  {
   "cell_type": "code",
   "execution_count": 12,
   "metadata": {},
   "outputs": [],
   "source": [
    "def PlotCamsImages(fname):\n",
    "    all_images_scaled = ScalingData(fname)\n",
    "    file = load_drdf(fname)\n",
    "    cam_list = CamList(fname)\n",
    "    for i in range(len(all_images_scaled)):\n",
    "        for j in range(len(all_images_scaled[i])):\n",
    "            plt.imshow(all_images_scaled[i][j], interpolation='none')\n",
    "            plt.colorbar()\n",
    "            plt.title(f\"event {file[i][0]} on {cam_list[j]}\")\n",
    "            plt.show()\n",
    "            break\n",
    "        break"
   ]
  },
  {
   "cell_type": "code",
   "execution_count": 13,
   "metadata": {},
   "outputs": [],
   "source": [
    "def PreprocessWithScaling(fname):\n",
    "    return Reshaping(fname)"
   ]
  },
  {
   "cell_type": "code",
   "execution_count": 14,
   "metadata": {},
   "outputs": [],
   "source": [
    "def PreprocessNotScaled(fname):\n",
    "    matrix = AllImages(fname)\n",
    "    nr_events, nr_pixels, nr_cams, nr_tot_events, nr_pixels_1_ev = DimensionsData(fname)\n",
    "    array = matrix.reshape(nr_events*nr_cams, nr_pixels, nr_pixels)\n",
    "    return array"
   ]
  },
  {
   "cell_type": "code",
   "execution_count": 15,
   "metadata": {},
   "outputs": [],
   "source": [
    "def SumPhotons(fname):\n",
    "    tot_photons = []\n",
    "    all_images = PreprocessNotScaled(fname)\n",
    "    for j in all_images:\n",
    "        sum_ph = np.sum(j)\n",
    "        tot_photons.append(sum_ph)\n",
    "    return tot_photons"
   ]
  },
  {
   "cell_type": "markdown",
   "metadata": {},
   "source": [
    "ROOT"
   ]
  },
  {
   "cell_type": "code",
   "execution_count": 25,
   "metadata": {},
   "outputs": [],
   "source": [
    "import ROOT as root\n",
    "\n",
    "def OpenRootFile(rname,fname):\n",
    "    #sensor1.root è il file; ogni camera è un TTree\n",
    "    input_file = root.TFile.Open(rname, \"READ\")\n",
    "    #tree = input_file.Get(\"CAM_NB_X2\")\n",
    "\n",
    "    cam_list = CamList(fname)\n",
    "\n",
    "    nr_photons_list_all_cams_list = []\n",
    "    for cam in cam_list:\n",
    "        nr_photons_list = []\n",
    "        tree = input_file.Get(cam)\n",
    "        entries = tree.GetEntries()\n",
    "        for i in range(entries):\n",
    "            #print(i)\n",
    "            n = tree.GetEntry(i)\n",
    "            #print(n)\n",
    "            inner_photons = tree.innerPhotons\n",
    "            nr_photons_list.append(inner_photons)\n",
    "        nr_photons_list_all_cams_list.append(nr_photons_list)\n",
    "        nr_photons_list_all_cams = np.array(nr_photons_list_all_cams_list)#ho creato una matrice 1000 colonne (nr eventi) x 54 righe (nr camere). I numeri che vediamo sono i numeri di fotoni che arrivano alla camera\n",
    "    return nr_photons_list_all_cams"
   ]
  },
  {
   "cell_type": "code",
   "execution_count": 26,
   "metadata": {},
   "outputs": [],
   "source": [
    "root = OpenRootFile(file_root_list[0], file_drdf_list[0])"
   ]
  },
  {
   "cell_type": "code",
   "execution_count": 24,
   "metadata": {},
   "outputs": [
    {
     "name": "stdout",
     "output_type": "stream",
     "text": [
      "[[0 0 0 ... 0 0 0]\n",
      " [0 0 0 ... 0 0 0]\n",
      " [0 0 0 ... 0 0 0]\n",
      " ...\n",
      " [0 0 0 ... 0 0 0]\n",
      " [0 0 0 ... 0 0 0]\n",
      " [0 0 0 ... 0 0 0]]\n"
     ]
    }
   ],
   "source": [
    "print(root)"
   ]
  },
  {
   "cell_type": "code",
   "execution_count": 19,
   "metadata": {},
   "outputs": [],
   "source": [
    "def EventListNumber(fname):\n",
    "    file = load_drdf(fname)\n",
    "    ev_list = []\n",
    "    for i in range(len(file)):\n",
    "        ev_list.append(file[i][0])\n",
    "    return ev_list"
   ]
  },
  {
   "cell_type": "code",
   "execution_count": 20,
   "metadata": {},
   "outputs": [],
   "source": [
    "def column(matrix, i):\n",
    "    column = [row[i] for row in matrix]\n",
    "    return column\n",
    "\n",
    "def RootDataDictionary(rname,fname):\n",
    "    nr_photons_list_all_cams = OpenRootFile(rname,fname)\n",
    "    ev_list = EventListNumber(fname)\n",
    "    all_photons_in_ev = []\n",
    "    for i in ev_list:\n",
    "        nr_photons_in_ev = column(nr_photons_list_all_cams, i)#lista di fotoni in un determinato evento/sono le colonne delle matrici\n",
    "        all_photons_in_ev.append(nr_photons_in_ev)#faccio una lista di queste liste di fotoni\n",
    "\n",
    "    cam_list = CamList(fname)\n",
    "\n",
    "    final_root_data = []\n",
    "    for i in range(len(all_photons_in_ev)):\n",
    "        nr_photon_in_cam = []\n",
    "        for j in range(len(all_photons_in_ev[i])):\n",
    "            nr_photon_in_cam.append(all_photons_in_ev[i][j])\n",
    "        dict_cam_ev = dict(zip(cam_list, nr_photon_in_cam))\n",
    "        final_root_data.append((ev_list[i], dict_cam_ev))\n",
    "    return final_root_data"
   ]
  },
  {
   "cell_type": "code",
   "execution_count": 22,
   "metadata": {},
   "outputs": [],
   "source": [
    "def InitializeDatasetParameters():\n",
    "    ratio_thr = 0.1\n",
    "    sum_thr = 40\n",
    "    perc_val = 0.2\n",
    "    perc_train = 0.9\n",
    "    return ratio_thr, sum_thr, perc_val, perc_train\n",
    "\n",
    "ratio_thr, sum_thr, perc_val, perc_train = InitializeDatasetParameters()"
   ]
  },
  {
   "cell_type": "code",
   "execution_count": 23,
   "metadata": {},
   "outputs": [],
   "source": [
    "def InnerPhotonsList(rname,fname):\n",
    "    final_root_data = RootDataDictionary(rname, fname)\n",
    "    inner_photons_list = []\n",
    "    for i in range(len(final_root_data)):\n",
    "        for cam in final_root_data[i][1].keys():\n",
    "            inner_photons_list.append(final_root_data[i][1][cam])  \n",
    "    inner_photons_list = np.asarray(inner_photons_list)\n",
    "    return inner_photons_list\n",
    "\n",
    "def CamStatesRootList(rname,fname):\n",
    "    inner_photons_list = InnerPhotonsList(rname,fname)\n",
    "    tot_photons = SumPhotons(fname)\n",
    "    \n",
    "    ev_cam_state = []\n",
    "    for i in range(len(inner_photons_list)):\n",
    "        np.seterr(divide='ignore', invalid='ignore')\n",
    "        ratio = inner_photons_list[i]/tot_photons[i]\n",
    "        if ratio >= ratio_thr:\n",
    "            value = 1#acc\n",
    "        elif ratio < ratio_thr:\n",
    "            value = 0#non acc\n",
    "        ev_cam_state.append(value)\n",
    "    return ev_cam_state"
   ]
  },
  {
   "cell_type": "code",
   "execution_count": 24,
   "metadata": {},
   "outputs": [],
   "source": [
    "def RootPreprocessing(rname, fname):\n",
    "    return CamStatesRootList(rname, fname)"
   ]
  },
  {
   "cell_type": "code",
   "execution_count": 25,
   "metadata": {},
   "outputs": [],
   "source": [
    "def PlotCamsImages(rname, fname):\n",
    "    all_images = AllImages(fname)\n",
    "    file = load_drdf(fname)\n",
    "    cam_list = CamList(fname)\n",
    "    inner_ph = RootDataDictionary(rname,fname)\n",
    "    for i in range(len(all_images)):\n",
    "        #for cam in cam_list:\n",
    "        for j in range(len(all_images[i])):\n",
    "            print(inner_ph[j])\n",
    "            plt.imshow(all_images[i][j], interpolation='none')\n",
    "            plt.colorbar()\n",
    "            plt.title(f\"event {file[i][0]} on {cam_list[j]}\")\n",
    "            plt.show()"
   ]
  },
  {
   "cell_type": "markdown",
   "metadata": {},
   "source": [
    "CNN MODEL"
   ]
  },
  {
   "cell_type": "code",
   "execution_count": 26,
   "metadata": {},
   "outputs": [],
   "source": [
    "import tensorflow as tf\n",
    "from tensorflow import keras\n",
    "from keras import layers, models\n",
    "from sklearn.model_selection import train_test_split\n",
    "from sklearn import metrics\n"
   ]
  },
  {
   "cell_type": "code",
   "execution_count": 27,
   "metadata": {},
   "outputs": [],
   "source": [
    "def Cut(rname: list, fname: list):\n",
    "    all_images = np.concatenate([PreprocessNotScaled(i) for i in fname]) \n",
    "    root_images = np.concatenate([RootPreprocessing(rname[i],fname[i]) for i in range(len(fname))]) \n",
    "    inner_photons = np.concatenate([InnerPhotonsList(rname[i], fname[i]) for i in range(len(fname))])\n",
    "\n",
    "    index_to_cut = []\n",
    "    i = 0\n",
    "    for image in all_images:\n",
    "        if np.sum(image)<sum_thr:\n",
    "            index_to_cut.append(i)\n",
    "        i += 1\n",
    "    return index_to_cut, all_images, root_images, inner_photons#, all_images_scaled"
   ]
  },
  {
   "cell_type": "code",
   "execution_count": 28,
   "metadata": {},
   "outputs": [],
   "source": [
    "def DatasetCut(rname: list, fname: list):\n",
    "    index_to_cut, all_images, root_images, inner_photons = Cut(rname, fname)\n",
    "    all_images_list = list(all_images)\n",
    "    root_images_list = list(root_images)\n",
    "    inner_photons_list = list(inner_photons)\n",
    "    #all_images_scaled_list = list(all_images_scaled)\n",
    "    \n",
    "    for i in sorted(index_to_cut, reverse=True):\n",
    "        del all_images_list[i], root_images_list[i], inner_photons_list[i]#, all_images_scaled_list[i]\n",
    "\n",
    "    data_cut = np.array(all_images_list)\n",
    "    root_cut = np.array(root_images_list)\n",
    "    inner_photons_cut = np.array(inner_photons_list)\n",
    "    #data_scaled_cut = np.array(all_images_scaled_list)\n",
    "\n",
    "    data_cut = data_cut.reshape(data_cut.shape[0],32,32,1)\n",
    "    #data_scaled_cut = data_scaled_cut.reshape(data_scaled_cut.shape[0],32,32,1)\n",
    "\n",
    "    return data_cut, root_cut, inner_photons_cut#, data_scaled_cut"
   ]
  },
  {
   "cell_type": "code",
   "execution_count": 29,
   "metadata": {},
   "outputs": [],
   "source": [
    "data_cut, root_cut, inner_photons_cut = DatasetCut(file_root_list, file_drdf_list)"
   ]
  },
  {
   "cell_type": "code",
   "execution_count": 30,
   "metadata": {},
   "outputs": [],
   "source": [
    "def PrepareData(rname: list, fname: list):\n",
    "    data_cut, root_cut, inner_photons_cut = DatasetCut(rname, fname)\n",
    "    t_ds, val_ds, t_labels, val_labels = train_test_split(data_cut, root_cut, train_size=0.87, random_state=42)\n",
    "    train_ds, test_ds, train_labels, test_labels = train_test_split(t_ds, t_labels, train_size=0.9, random_state=42)\n",
    "\n",
    "    train_ds = np.asarray(train_ds)\n",
    "    val_ds = np.asarray(val_ds)\n",
    "    test_ds = np.asarray(test_ds)\n",
    "\n",
    "    train_ds = train_ds.reshape(train_ds.shape[0], 32, 32,1)\n",
    "    val_ds = val_ds.reshape(val_ds.shape[0], 32, 32, 1)\n",
    "    test_ds = test_ds.reshape(test_ds.shape[0],32,32,1)\n",
    "\n",
    "    return train_ds, val_ds, test_ds, train_labels, val_labels, test_labels"
   ]
  },
  {
   "cell_type": "code",
   "execution_count": 31,
   "metadata": {},
   "outputs": [],
   "source": [
    "def FindBlindEvents(rarray,farray):\n",
    "    # ev_cam_state = RootPreprocessing(rname,fname)\n",
    "    # data_prep = PreprocessWithScaling(fname)\n",
    "    n = 0\n",
    "    nr_blind_events = []\n",
    "    blind_events = []\n",
    "    for i in rarray:\n",
    "        if i == 1:\n",
    "            nr_blind_events.append(n)\n",
    "        n+=1\n",
    "    for i in nr_blind_events:\n",
    "        blind_events.append(farray[i])\n",
    "    return nr_blind_events, blind_events"
   ]
  },
  {
   "cell_type": "code",
   "execution_count": 32,
   "metadata": {},
   "outputs": [],
   "source": [
    "def Augmentation(rarray, farray):\n",
    "    input_shape = [32,32,32,1]\n",
    "    data_augmentation = keras.Sequential()\n",
    "    data_augmentation.add(layers.RandomFlip(\"horizontal\", input_shape=input_shape[1:]))\n",
    "    data_augmentation.add(layers.RandomRotation(0.2))\n",
    "    #data_augmentation.add(layers.RandomTranslation(0.2,0.2))\n",
    "    data_augmentation.add(layers.RandomZoom(0.8))\n",
    "    \n",
    "    nr_blind_events1, blind_events1 = FindBlindEvents(rarray,farray)\n",
    "    # nr_blind_events2, blind_events2 = FindBlindEvents(rname[1], fname[1])\n",
    "    # nr_blind_events3, blind_events3 = FindBlindEvents(rname[2], fname[2])\n",
    "    # nr_blind_events14, blind_events4 = FindBlindEvents(rname[3], fname[3])\n",
    "    \n",
    "    #all_blind_events = np.concatenate((blind_events1), axis=0)#,blind_events2,blind_events3,blind_events4), axis=0)\n",
    "\n",
    "    augmented_ds = []\n",
    "    for blind_im in blind_events1:\n",
    "        for i in range(150):\n",
    "            augmented_image = data_augmentation(blind_im)\n",
    "            augmented_image_sq = np.squeeze(augmented_image, axis=3)\n",
    "            augmented_ds.append(augmented_image_sq)\n",
    "    augmented_ds = np.asarray(augmented_ds)\n",
    "\n",
    "    augmented_labels = len(augmented_ds)*[1]\n",
    "    return augmented_ds, augmented_labels"
   ]
  },
  {
   "cell_type": "code",
   "execution_count": 33,
   "metadata": {},
   "outputs": [],
   "source": [
    "def DatasetwithAugmentation(rname: list, fname: list, rarray, farray):\n",
    "    train_ds, val_ds, test_ds,train_labels, val_labels,test_labels = PrepareData(rname, fname)\n",
    "    augmented_ds, augmented_labels = Augmentation(rarray, farray)\n",
    "    train_ds_aug = np.concatenate((train_ds,augmented_ds),axis=0)\n",
    "    train_labels_aug = np.concatenate((train_labels,augmented_labels),axis=0)\n",
    "    return train_ds_aug, train_labels_aug"
   ]
  },
  {
   "cell_type": "code",
   "execution_count": 34,
   "metadata": {},
   "outputs": [],
   "source": [
    "def DatasetWeights(rarray, farray):\n",
    "    nr_blind_events1, blind_events1 = FindBlindEvents(rarray, farray)\n",
    "    # nr_blind_events2, blind_events2 = FindBlindEvents(rname[1],fname[1])\n",
    "    # nr_blind_events3, blind_events3 = FindBlindEvents(rname[2],fname[2])\n",
    "    # nr_blind_events4, blind_events4 = FindBlindEvents(rname[3], fname[3])\n",
    "\n",
    "    # nr_events1, nr_pixels1, nr_cams1, nr_tot_events1, nr_pixels_1_ev1 = DimensionsData(fname[0])\n",
    "    # nr_events2, nr_pixels2, nr_cams2, nr_tot_events2, nr_pixels_1_ev2 = DimensionsData(fname[1])\n",
    "    # nr_events3, nr_pixels3, nr_cams3, nr_tot_events3, nr_pixels_1_ev3 = DimensionsData(fname[2])\n",
    "    # nr_events4, nr_pixels4, nr_cams4, nr_tot_events4, nr_pixels_1_ev4 = DimensionsData(fname[3])\n",
    "\n",
    "    #data_cut, root_cut, data_scaled_cut = DatasetCut(rname, fname)\n",
    "\n",
    "    augmented_ds, augmented_labels = Augmentation(rarray, farray)\n",
    "    \n",
    "    nr_blind_ev = len(nr_blind_events1) + len(augmented_ds) #+ len(nr_blind_events4) + len(nr_blind_events2) + len(nr_blind_events3)\n",
    "    nr_tot_ev = len(rarray) + len(augmented_ds)#nr_tot_events1 + nr_tot_events2 + nr_tot_events3 + nr_tot_events4 + len(augmented_ds) - len(root_to)\n",
    "    nr_not_blind_ev = nr_tot_ev - nr_blind_ev\n",
    "\n",
    "    initial_bias = np.log(nr_blind_ev/nr_not_blind_ev)\n",
    "\n",
    "    weights_0 = (1/nr_not_blind_ev)*(nr_tot_ev/2)\n",
    "    weights_1 = (1/nr_blind_ev)*(nr_tot_ev/2)\n",
    "    weights_classes = {0: weights_0, 1: weights_1}\n",
    "\n",
    "    percentage = {0: nr_not_blind_ev/nr_tot_ev, 1: nr_blind_ev/nr_tot_ev}\n",
    "\n",
    "    return initial_bias, weights_classes, percentage"
   ]
  },
  {
   "cell_type": "code",
   "execution_count": 35,
   "metadata": {},
   "outputs": [
    {
     "ename": "KeyboardInterrupt",
     "evalue": "",
     "output_type": "error",
     "traceback": [
      "\u001b[0;31m---------------------------------------------------------------------------\u001b[0m",
      "\u001b[0;31mKeyboardInterrupt\u001b[0m                         Traceback (most recent call last)",
      "\u001b[1;32m/Users/giacomosantoni/Desktop/TESI/Progetto_ML/blindcams/ultima_versione_buoni/ml_robustscaler_10_basic.ipynb Cell 38\u001b[0m line \u001b[0;36m1\n\u001b[0;32m----> <a href='vscode-notebook-cell:/Users/giacomosantoni/Desktop/TESI/Progetto_ML/blindcams/ultima_versione_buoni/ml_robustscaler_10_basic.ipynb#X52sZmlsZQ%3D%3D?line=0'>1</a>\u001b[0m train_ds, val_ds, test_ds,train_labels, val_labels,test_labels \u001b[39m=\u001b[39m PrepareData(file_root_list, file_drdf_list)\n",
      "\u001b[1;32m/Users/giacomosantoni/Desktop/TESI/Progetto_ML/blindcams/ultima_versione_buoni/ml_robustscaler_10_basic.ipynb Cell 38\u001b[0m line \u001b[0;36m2\n\u001b[1;32m      <a href='vscode-notebook-cell:/Users/giacomosantoni/Desktop/TESI/Progetto_ML/blindcams/ultima_versione_buoni/ml_robustscaler_10_basic.ipynb#X52sZmlsZQ%3D%3D?line=0'>1</a>\u001b[0m \u001b[39mdef\u001b[39;00m \u001b[39mPrepareData\u001b[39m(rname: \u001b[39mlist\u001b[39m, fname: \u001b[39mlist\u001b[39m):\n\u001b[0;32m----> <a href='vscode-notebook-cell:/Users/giacomosantoni/Desktop/TESI/Progetto_ML/blindcams/ultima_versione_buoni/ml_robustscaler_10_basic.ipynb#X52sZmlsZQ%3D%3D?line=1'>2</a>\u001b[0m     data_cut, root_cut, inner_photons_cut \u001b[39m=\u001b[39m DatasetCut(rname, fname)\n\u001b[1;32m      <a href='vscode-notebook-cell:/Users/giacomosantoni/Desktop/TESI/Progetto_ML/blindcams/ultima_versione_buoni/ml_robustscaler_10_basic.ipynb#X52sZmlsZQ%3D%3D?line=2'>3</a>\u001b[0m     t_ds, val_ds, t_labels, val_labels \u001b[39m=\u001b[39m train_test_split(data_cut, root_cut, train_size\u001b[39m=\u001b[39m\u001b[39m0.87\u001b[39m, random_state\u001b[39m=\u001b[39m\u001b[39m42\u001b[39m)\n\u001b[1;32m      <a href='vscode-notebook-cell:/Users/giacomosantoni/Desktop/TESI/Progetto_ML/blindcams/ultima_versione_buoni/ml_robustscaler_10_basic.ipynb#X52sZmlsZQ%3D%3D?line=3'>4</a>\u001b[0m     train_ds, test_ds, train_labels, test_labels \u001b[39m=\u001b[39m train_test_split(t_ds, t_labels, train_size\u001b[39m=\u001b[39m\u001b[39m0.9\u001b[39m, random_state\u001b[39m=\u001b[39m\u001b[39m42\u001b[39m)\n",
      "\u001b[1;32m/Users/giacomosantoni/Desktop/TESI/Progetto_ML/blindcams/ultima_versione_buoni/ml_robustscaler_10_basic.ipynb Cell 38\u001b[0m line \u001b[0;36m2\n\u001b[1;32m      <a href='vscode-notebook-cell:/Users/giacomosantoni/Desktop/TESI/Progetto_ML/blindcams/ultima_versione_buoni/ml_robustscaler_10_basic.ipynb#X52sZmlsZQ%3D%3D?line=0'>1</a>\u001b[0m \u001b[39mdef\u001b[39;00m \u001b[39mDatasetCut\u001b[39m(rname: \u001b[39mlist\u001b[39m, fname: \u001b[39mlist\u001b[39m):\n\u001b[0;32m----> <a href='vscode-notebook-cell:/Users/giacomosantoni/Desktop/TESI/Progetto_ML/blindcams/ultima_versione_buoni/ml_robustscaler_10_basic.ipynb#X52sZmlsZQ%3D%3D?line=1'>2</a>\u001b[0m     index_to_cut, all_images, root_images, inner_photons \u001b[39m=\u001b[39m Cut(rname, fname)\n\u001b[1;32m      <a href='vscode-notebook-cell:/Users/giacomosantoni/Desktop/TESI/Progetto_ML/blindcams/ultima_versione_buoni/ml_robustscaler_10_basic.ipynb#X52sZmlsZQ%3D%3D?line=2'>3</a>\u001b[0m     all_images_list \u001b[39m=\u001b[39m \u001b[39mlist\u001b[39m(all_images)\n\u001b[1;32m      <a href='vscode-notebook-cell:/Users/giacomosantoni/Desktop/TESI/Progetto_ML/blindcams/ultima_versione_buoni/ml_robustscaler_10_basic.ipynb#X52sZmlsZQ%3D%3D?line=3'>4</a>\u001b[0m     root_images_list \u001b[39m=\u001b[39m \u001b[39mlist\u001b[39m(root_images)\n",
      "\u001b[1;32m/Users/giacomosantoni/Desktop/TESI/Progetto_ML/blindcams/ultima_versione_buoni/ml_robustscaler_10_basic.ipynb Cell 38\u001b[0m line \u001b[0;36m4\n\u001b[1;32m      <a href='vscode-notebook-cell:/Users/giacomosantoni/Desktop/TESI/Progetto_ML/blindcams/ultima_versione_buoni/ml_robustscaler_10_basic.ipynb#X52sZmlsZQ%3D%3D?line=1'>2</a>\u001b[0m all_images \u001b[39m=\u001b[39m np\u001b[39m.\u001b[39mconcatenate([PreprocessNotScaled(i) \u001b[39mfor\u001b[39;00m i \u001b[39min\u001b[39;00m fname]) \n\u001b[1;32m      <a href='vscode-notebook-cell:/Users/giacomosantoni/Desktop/TESI/Progetto_ML/blindcams/ultima_versione_buoni/ml_robustscaler_10_basic.ipynb#X52sZmlsZQ%3D%3D?line=2'>3</a>\u001b[0m root_images \u001b[39m=\u001b[39m np\u001b[39m.\u001b[39mconcatenate([RootPreprocessing(rname[i],fname[i]) \u001b[39mfor\u001b[39;00m i \u001b[39min\u001b[39;00m \u001b[39mrange\u001b[39m(\u001b[39mlen\u001b[39m(fname))]) \n\u001b[0;32m----> <a href='vscode-notebook-cell:/Users/giacomosantoni/Desktop/TESI/Progetto_ML/blindcams/ultima_versione_buoni/ml_robustscaler_10_basic.ipynb#X52sZmlsZQ%3D%3D?line=3'>4</a>\u001b[0m inner_photons \u001b[39m=\u001b[39m np\u001b[39m.\u001b[39mconcatenate([InnerPhotonsList(rname[i], fname[i]) \u001b[39mfor\u001b[39;49;00m i \u001b[39min\u001b[39;49;00m \u001b[39mrange\u001b[39;49m(\u001b[39mlen\u001b[39;49m(fname))])\n\u001b[1;32m      <a href='vscode-notebook-cell:/Users/giacomosantoni/Desktop/TESI/Progetto_ML/blindcams/ultima_versione_buoni/ml_robustscaler_10_basic.ipynb#X52sZmlsZQ%3D%3D?line=5'>6</a>\u001b[0m index_to_cut \u001b[39m=\u001b[39m []\n\u001b[1;32m      <a href='vscode-notebook-cell:/Users/giacomosantoni/Desktop/TESI/Progetto_ML/blindcams/ultima_versione_buoni/ml_robustscaler_10_basic.ipynb#X52sZmlsZQ%3D%3D?line=6'>7</a>\u001b[0m i \u001b[39m=\u001b[39m \u001b[39m0\u001b[39m\n",
      "\u001b[1;32m/Users/giacomosantoni/Desktop/TESI/Progetto_ML/blindcams/ultima_versione_buoni/ml_robustscaler_10_basic.ipynb Cell 38\u001b[0m line \u001b[0;36m4\n\u001b[1;32m      <a href='vscode-notebook-cell:/Users/giacomosantoni/Desktop/TESI/Progetto_ML/blindcams/ultima_versione_buoni/ml_robustscaler_10_basic.ipynb#X52sZmlsZQ%3D%3D?line=1'>2</a>\u001b[0m all_images \u001b[39m=\u001b[39m np\u001b[39m.\u001b[39mconcatenate([PreprocessNotScaled(i) \u001b[39mfor\u001b[39;00m i \u001b[39min\u001b[39;00m fname]) \n\u001b[1;32m      <a href='vscode-notebook-cell:/Users/giacomosantoni/Desktop/TESI/Progetto_ML/blindcams/ultima_versione_buoni/ml_robustscaler_10_basic.ipynb#X52sZmlsZQ%3D%3D?line=2'>3</a>\u001b[0m root_images \u001b[39m=\u001b[39m np\u001b[39m.\u001b[39mconcatenate([RootPreprocessing(rname[i],fname[i]) \u001b[39mfor\u001b[39;00m i \u001b[39min\u001b[39;00m \u001b[39mrange\u001b[39m(\u001b[39mlen\u001b[39m(fname))]) \n\u001b[0;32m----> <a href='vscode-notebook-cell:/Users/giacomosantoni/Desktop/TESI/Progetto_ML/blindcams/ultima_versione_buoni/ml_robustscaler_10_basic.ipynb#X52sZmlsZQ%3D%3D?line=3'>4</a>\u001b[0m inner_photons \u001b[39m=\u001b[39m np\u001b[39m.\u001b[39mconcatenate([InnerPhotonsList(rname[i], fname[i]) \u001b[39mfor\u001b[39;00m i \u001b[39min\u001b[39;00m \u001b[39mrange\u001b[39m(\u001b[39mlen\u001b[39m(fname))])\n\u001b[1;32m      <a href='vscode-notebook-cell:/Users/giacomosantoni/Desktop/TESI/Progetto_ML/blindcams/ultima_versione_buoni/ml_robustscaler_10_basic.ipynb#X52sZmlsZQ%3D%3D?line=5'>6</a>\u001b[0m index_to_cut \u001b[39m=\u001b[39m []\n\u001b[1;32m      <a href='vscode-notebook-cell:/Users/giacomosantoni/Desktop/TESI/Progetto_ML/blindcams/ultima_versione_buoni/ml_robustscaler_10_basic.ipynb#X52sZmlsZQ%3D%3D?line=6'>7</a>\u001b[0m i \u001b[39m=\u001b[39m \u001b[39m0\u001b[39m\n",
      "\u001b[1;32m/Users/giacomosantoni/Desktop/TESI/Progetto_ML/blindcams/ultima_versione_buoni/ml_robustscaler_10_basic.ipynb Cell 38\u001b[0m line \u001b[0;36m2\n\u001b[1;32m      <a href='vscode-notebook-cell:/Users/giacomosantoni/Desktop/TESI/Progetto_ML/blindcams/ultima_versione_buoni/ml_robustscaler_10_basic.ipynb#X52sZmlsZQ%3D%3D?line=0'>1</a>\u001b[0m \u001b[39mdef\u001b[39;00m \u001b[39mInnerPhotonsList\u001b[39m(rname,fname):\n\u001b[0;32m----> <a href='vscode-notebook-cell:/Users/giacomosantoni/Desktop/TESI/Progetto_ML/blindcams/ultima_versione_buoni/ml_robustscaler_10_basic.ipynb#X52sZmlsZQ%3D%3D?line=1'>2</a>\u001b[0m     final_root_data \u001b[39m=\u001b[39m RootDataDictionary(rname, fname)\n\u001b[1;32m      <a href='vscode-notebook-cell:/Users/giacomosantoni/Desktop/TESI/Progetto_ML/blindcams/ultima_versione_buoni/ml_robustscaler_10_basic.ipynb#X52sZmlsZQ%3D%3D?line=2'>3</a>\u001b[0m     inner_photons_list \u001b[39m=\u001b[39m []\n\u001b[1;32m      <a href='vscode-notebook-cell:/Users/giacomosantoni/Desktop/TESI/Progetto_ML/blindcams/ultima_versione_buoni/ml_robustscaler_10_basic.ipynb#X52sZmlsZQ%3D%3D?line=3'>4</a>\u001b[0m     \u001b[39mfor\u001b[39;00m i \u001b[39min\u001b[39;00m \u001b[39mrange\u001b[39m(\u001b[39mlen\u001b[39m(final_root_data)):\n",
      "\u001b[1;32m/Users/giacomosantoni/Desktop/TESI/Progetto_ML/blindcams/ultima_versione_buoni/ml_robustscaler_10_basic.ipynb Cell 38\u001b[0m line \u001b[0;36m7\n\u001b[1;32m      <a href='vscode-notebook-cell:/Users/giacomosantoni/Desktop/TESI/Progetto_ML/blindcams/ultima_versione_buoni/ml_robustscaler_10_basic.ipynb#X52sZmlsZQ%3D%3D?line=4'>5</a>\u001b[0m \u001b[39mdef\u001b[39;00m \u001b[39mRootDataDictionary\u001b[39m(rname,fname):\n\u001b[1;32m      <a href='vscode-notebook-cell:/Users/giacomosantoni/Desktop/TESI/Progetto_ML/blindcams/ultima_versione_buoni/ml_robustscaler_10_basic.ipynb#X52sZmlsZQ%3D%3D?line=5'>6</a>\u001b[0m     nr_photons_list_all_cams \u001b[39m=\u001b[39m OpenRootFile(rname,fname)\n\u001b[0;32m----> <a href='vscode-notebook-cell:/Users/giacomosantoni/Desktop/TESI/Progetto_ML/blindcams/ultima_versione_buoni/ml_robustscaler_10_basic.ipynb#X52sZmlsZQ%3D%3D?line=6'>7</a>\u001b[0m     ev_list \u001b[39m=\u001b[39m EventListNumber(fname)\n\u001b[1;32m      <a href='vscode-notebook-cell:/Users/giacomosantoni/Desktop/TESI/Progetto_ML/blindcams/ultima_versione_buoni/ml_robustscaler_10_basic.ipynb#X52sZmlsZQ%3D%3D?line=7'>8</a>\u001b[0m     all_photons_in_ev \u001b[39m=\u001b[39m []\n\u001b[1;32m      <a href='vscode-notebook-cell:/Users/giacomosantoni/Desktop/TESI/Progetto_ML/blindcams/ultima_versione_buoni/ml_robustscaler_10_basic.ipynb#X52sZmlsZQ%3D%3D?line=8'>9</a>\u001b[0m     \u001b[39mfor\u001b[39;00m i \u001b[39min\u001b[39;00m ev_list:\n",
      "\u001b[1;32m/Users/giacomosantoni/Desktop/TESI/Progetto_ML/blindcams/ultima_versione_buoni/ml_robustscaler_10_basic.ipynb Cell 38\u001b[0m line \u001b[0;36m2\n\u001b[1;32m      <a href='vscode-notebook-cell:/Users/giacomosantoni/Desktop/TESI/Progetto_ML/blindcams/ultima_versione_buoni/ml_robustscaler_10_basic.ipynb#X52sZmlsZQ%3D%3D?line=0'>1</a>\u001b[0m \u001b[39mdef\u001b[39;00m \u001b[39mEventListNumber\u001b[39m(fname):\n\u001b[0;32m----> <a href='vscode-notebook-cell:/Users/giacomosantoni/Desktop/TESI/Progetto_ML/blindcams/ultima_versione_buoni/ml_robustscaler_10_basic.ipynb#X52sZmlsZQ%3D%3D?line=1'>2</a>\u001b[0m     file \u001b[39m=\u001b[39m load_drdf(fname)\n\u001b[1;32m      <a href='vscode-notebook-cell:/Users/giacomosantoni/Desktop/TESI/Progetto_ML/blindcams/ultima_versione_buoni/ml_robustscaler_10_basic.ipynb#X52sZmlsZQ%3D%3D?line=2'>3</a>\u001b[0m     ev_list \u001b[39m=\u001b[39m []\n\u001b[1;32m      <a href='vscode-notebook-cell:/Users/giacomosantoni/Desktop/TESI/Progetto_ML/blindcams/ultima_versione_buoni/ml_robustscaler_10_basic.ipynb#X52sZmlsZQ%3D%3D?line=3'>4</a>\u001b[0m     \u001b[39mfor\u001b[39;00m i \u001b[39min\u001b[39;00m \u001b[39mrange\u001b[39m(\u001b[39mlen\u001b[39m(file)):\n",
      "\u001b[1;32m/Users/giacomosantoni/Desktop/TESI/Progetto_ML/blindcams/ultima_versione_buoni/ml_robustscaler_10_basic.ipynb Cell 38\u001b[0m line \u001b[0;36m1\n\u001b[1;32m      <a href='vscode-notebook-cell:/Users/giacomosantoni/Desktop/TESI/Progetto_ML/blindcams/ultima_versione_buoni/ml_robustscaler_10_basic.ipynb#X52sZmlsZQ%3D%3D?line=8'>9</a>\u001b[0m       amplitude \u001b[39m=\u001b[39m img\u001b[39m.\u001b[39mpixels[:, :, \u001b[39m0\u001b[39m] \n\u001b[1;32m     <a href='vscode-notebook-cell:/Users/giacomosantoni/Desktop/TESI/Progetto_ML/blindcams/ultima_versione_buoni/ml_robustscaler_10_basic.ipynb#X52sZmlsZQ%3D%3D?line=9'>10</a>\u001b[0m       time \u001b[39m=\u001b[39m img\u001b[39m.\u001b[39mpixels[:, :, \u001b[39m1\u001b[39m]\n\u001b[0;32m---> <a href='vscode-notebook-cell:/Users/giacomosantoni/Desktop/TESI/Progetto_ML/blindcams/ultima_versione_buoni/ml_robustscaler_10_basic.ipynb#X52sZmlsZQ%3D%3D?line=10'>11</a>\u001b[0m       hits_map[cam] \u001b[39m=\u001b[39m amplitude\n\u001b[1;32m     <a href='vscode-notebook-cell:/Users/giacomosantoni/Desktop/TESI/Progetto_ML/blindcams/ultima_versione_buoni/ml_robustscaler_10_basic.ipynb#X52sZmlsZQ%3D%3D?line=11'>12</a>\u001b[0m     events\u001b[39m.\u001b[39mappend((event, hits_map))\n\u001b[1;32m     <a href='vscode-notebook-cell:/Users/giacomosantoni/Desktop/TESI/Progetto_ML/blindcams/ultima_versione_buoni/ml_robustscaler_10_basic.ipynb#X52sZmlsZQ%3D%3D?line=12'>13</a>\u001b[0m \u001b[39mreturn\u001b[39;00m events\n",
      "\u001b[0;31mKeyboardInterrupt\u001b[0m: "
     ]
    }
   ],
   "source": [
    "train_ds, val_ds, test_ds,train_labels, val_labels,test_labels = PrepareData(file_root_list, file_drdf_list)"
   ]
  },
  {
   "cell_type": "code",
   "execution_count": null,
   "metadata": {},
   "outputs": [],
   "source": [
    "train_ds_aug, train_labels_aug = DatasetwithAugmentation(file_root_list, file_drdf_list, root_cut, data_cut)"
   ]
  },
  {
   "cell_type": "code",
   "execution_count": null,
   "metadata": {},
   "outputs": [],
   "source": [
    "initial_bias, weights_classes, percentage = DatasetWeights(root_cut, data_cut)"
   ]
  },
  {
   "cell_type": "code",
   "execution_count": null,
   "metadata": {},
   "outputs": [
    {
     "data": {
      "text/plain": [
       "{0: 0.6507161830683392, 1: 0.3492838169316608}"
      ]
     },
     "execution_count": 38,
     "metadata": {},
     "output_type": "execute_result"
    }
   ],
   "source": [
    "percentage"
   ]
  },
  {
   "cell_type": "code",
   "execution_count": null,
   "metadata": {},
   "outputs": [
    {
     "data": {
      "text/plain": [
       "{0: 0.7683841481278931, 1: 1.4315006185867114}"
      ]
     },
     "execution_count": 39,
     "metadata": {},
     "output_type": "execute_result"
    }
   ],
   "source": [
    "weights_classes"
   ]
  },
  {
   "cell_type": "code",
   "execution_count": null,
   "metadata": {},
   "outputs": [],
   "source": [
    "#PARAMETERS for NN\n",
    "def InitializeCNNParameters():\n",
    "    batch_size = 32\n",
    "    epochs = 10\n",
    "    input_shape = [batch_size, 32,32,1]\n",
    "    metric = keras.metrics.F1Score()\n",
    "    loss_func = tf.keras.losses.BinaryCrossentropy()\n",
    "    return batch_size, epochs, input_shape,metric,loss_func"
   ]
  },
  {
   "cell_type": "code",
   "execution_count": null,
   "metadata": {},
   "outputs": [],
   "source": [
    "batch_size, epochs, input_shape, metric,loss_func = InitializeCNNParameters()"
   ]
  },
  {
   "cell_type": "code",
   "execution_count": null,
   "metadata": {},
   "outputs": [],
   "source": [
    "def Training(rname: list, fname: list): \n",
    "    #initial_bias, weights_classes = DatasetWeights(rname,fname)\n",
    "    #input_shape = [32,32,32,1]\n",
    "    output_bias = keras.initializers.Constant(initial_bias)\n",
    "\n",
    "    model = models.Sequential([\n",
    "    # Flatten layer per trasformare l'immagine in un vettore\n",
    "    layers.Conv2D(32, (3,3), activation='relu',input_shape = input_shape[1:]),\n",
    "    layers.MaxPooling2D((2,2)),\n",
    "    #layers.Dropout(0.2),\n",
    "    layers.Conv2D(64, (3,3), activation='relu'),#input_shape = input_shape[1:]),\n",
    "    layers.MaxPooling2D((2,2)),\n",
    "    # layers.Dropout(0.2),\n",
    "    # layers.Conv2D(128, (3,3), activation='relu'),#input_shape = input_shape[1:]),\n",
    "    # layers.MaxPooling2D((2,2)),\n",
    "    layers.Dropout(0.2),\n",
    "    layers.Flatten(),#(input_shape = input_shape[1:]),\n",
    "    \n",
    "    # Dense layers per la parte completamente connessa della rete\n",
    "    layers.Dense(128, activation='relu', bias_initializer=output_bias),\n",
    "    layers.Dense(64, activation='relu'),\n",
    "    layers.Dense(32,activation='relu'),\n",
    "    \n",
    "    # Output layer con un neurone e attivazione sigmoide per classificazione binaria\n",
    "    layers.Dense(1, activation='sigmoid')\n",
    "])\n",
    "\n",
    "    model.compile(optimizer='adam', loss=loss_func, metrics=metric)#, run_eagerly=True)#,'precision','recall'])\n",
    "    model.summary()\n",
    "    return model\n"
   ]
  },
  {
   "cell_type": "code",
   "execution_count": null,
   "metadata": {},
   "outputs": [
    {
     "name": "stderr",
     "output_type": "stream",
     "text": [
      "WARNING:absl:At this time, the v2.11+ optimizer `tf.keras.optimizers.Adam` runs slowly on M1/M2 Macs, please use the legacy Keras optimizer instead, located at `tf.keras.optimizers.legacy.Adam`.\n"
     ]
    },
    {
     "name": "stdout",
     "output_type": "stream",
     "text": [
      "Model: \"sequential_2\"\n",
      "_________________________________________________________________\n",
      " Layer (type)                Output Shape              Param #   \n",
      "=================================================================\n",
      " conv2d (Conv2D)             (None, 30, 30, 32)        320       \n",
      "                                                                 \n",
      " max_pooling2d (MaxPooling2  (None, 15, 15, 32)        0         \n",
      " D)                                                              \n",
      "                                                                 \n",
      " conv2d_1 (Conv2D)           (None, 13, 13, 64)        18496     \n",
      "                                                                 \n",
      " max_pooling2d_1 (MaxPoolin  (None, 6, 6, 64)          0         \n",
      " g2D)                                                            \n",
      "                                                                 \n",
      " dropout (Dropout)           (None, 6, 6, 64)          0         \n",
      "                                                                 \n",
      " flatten (Flatten)           (None, 2304)              0         \n",
      "                                                                 \n",
      " dense (Dense)               (None, 128)               295040    \n",
      "                                                                 \n",
      " dense_1 (Dense)             (None, 64)                8256      \n",
      "                                                                 \n",
      " dense_2 (Dense)             (None, 32)                2080      \n",
      "                                                                 \n",
      " dense_3 (Dense)             (None, 1)                 33        \n",
      "                                                                 \n",
      "=================================================================\n",
      "Total params: 324225 (1.24 MB)\n",
      "Trainable params: 324225 (1.24 MB)\n",
      "Non-trainable params: 0 (0.00 Byte)\n",
      "_________________________________________________________________\n"
     ]
    }
   ],
   "source": [
    "model = Training(file_root_list, file_drdf_list)"
   ]
  },
  {
   "cell_type": "code",
   "execution_count": null,
   "metadata": {},
   "outputs": [
    {
     "name": "stdout",
     "output_type": "stream",
     "text": [
      "Epoch 1/10\n",
      "4221/4221 [==============================] - 46s 11ms/step - loss: 0.0458 - f1_score: 0.5778 - val_loss: 0.0100 - val_f1_score: 0.0058\n",
      "Epoch 2/10\n",
      "4221/4221 [==============================] - 47s 11ms/step - loss: 0.0148 - f1_score: 0.5779 - val_loss: 0.0087 - val_f1_score: 0.0058\n",
      "Epoch 3/10\n",
      "4221/4221 [==============================] - 48s 11ms/step - loss: 0.0152 - f1_score: 0.5779 - val_loss: 0.0114 - val_f1_score: 0.0058\n",
      "Epoch 4/10\n",
      "4221/4221 [==============================] - 48s 11ms/step - loss: 0.0123 - f1_score: 0.5779 - val_loss: 0.0158 - val_f1_score: 0.0058\n",
      "Epoch 5/10\n",
      "4221/4221 [==============================] - 48s 11ms/step - loss: 0.0154 - f1_score: 0.5779 - val_loss: 0.0108 - val_f1_score: 0.0058\n",
      "Epoch 6/10\n",
      "4221/4221 [==============================] - 49s 12ms/step - loss: 0.0111 - f1_score: 0.5787 - val_loss: 0.0120 - val_f1_score: 0.0058\n",
      "Epoch 7/10\n",
      "4221/4221 [==============================] - 49s 12ms/step - loss: 0.0118 - f1_score: 0.5782 - val_loss: 0.0118 - val_f1_score: 0.0058\n",
      "Epoch 8/10\n",
      "4221/4221 [==============================] - 46s 11ms/step - loss: 0.0112 - f1_score: 0.5779 - val_loss: 0.0094 - val_f1_score: 0.0058\n",
      "Epoch 9/10\n",
      "4221/4221 [==============================] - 43s 10ms/step - loss: 0.0091 - f1_score: 0.5787 - val_loss: 0.0136 - val_f1_score: 0.0058\n",
      "Epoch 10/10\n",
      "4221/4221 [==============================] - 46s 11ms/step - loss: 0.0158 - f1_score: 0.5779 - val_loss: 0.0105 - val_f1_score: 0.0058\n"
     ]
    }
   ],
   "source": [
    "#callbacks = [keras.callbacks.ModelCheckpoint(\"/Users/giacomosantoni/Desktop/TESI/Progetto_ML/blindcams/ultima_versione_buoni/tf_model_new/cams_model_new.keras\")]\n",
    "train_labels_aug = train_labels_aug.astype(np.float32)\n",
    "val_labels = val_labels.astype(np.float32)\n",
    "history = model.fit(train_ds_aug, train_labels_aug, validation_data= (val_ds, val_labels), epochs=epochs, batch_size=batch_size, class_weight=weights_classes)"
   ]
  },
  {
   "cell_type": "code",
   "execution_count": null,
   "metadata": {},
   "outputs": [],
   "source": [
    "saved_model = model.save(\"/Users/giacomosantoni/Desktop/TESI/Progetto_ML/blindcams/ultima_versione_buoni/tf_model_new/cams_model_aug2_last.keras\")"
   ]
  },
  {
   "cell_type": "code",
   "execution_count": null,
   "metadata": {},
   "outputs": [
    {
     "name": "stdout",
     "output_type": "stream",
     "text": [
      "418/418 [==============================] - 1s 3ms/step\n"
     ]
    }
   ],
   "source": [
    "predictions_val = model.predict(val_ds)\n",
    "predictions = np.squeeze(predictions_val)\n",
    "\n",
    "i = 0\n",
    "predictions_val_approx = []\n",
    "for value in predictions:\n",
    "    value_approx = int(round(value,0))\n",
    "    predictions_val_approx.append(value_approx)\n",
    "\n",
    "predictions_val_approx = np.asarray(predictions_val_approx)"
   ]
  },
  {
   "cell_type": "code",
   "execution_count": null,
   "metadata": {},
   "outputs": [
    {
     "name": "stdout",
     "output_type": "stream",
     "text": [
      "[[13319     2]\n",
      " [   15    24]]\n",
      "0.7384615384615384\n"
     ]
    },
    {
     "data": {
      "image/png": "[encoded data removed]",
      "text/plain": [
       "<Figure size 640x480 with 2 Axes>"
      ]
     },
     "metadata": {},
     "output_type": "display_data"
    }
   ],
   "source": [
    "from sklearn import metrics \n",
    "\n",
    "cm = metrics.confusion_matrix(val_labels, predictions_val_approx)\n",
    "print(cm)\n",
    "cm_display = metrics.ConfusionMatrixDisplay(cm).plot()\n",
    "F1 = metrics.f1_score(val_labels, predictions_val_approx, average = 'binary')\n",
    "print(F1)"
   ]
  },
  {
   "cell_type": "code",
   "execution_count": null,
   "metadata": {},
   "outputs": [
    {
     "name": "stdout",
     "output_type": "stream",
     "text": [
      "280/280 [==============================] - 1s 4ms/step\n"
     ]
    }
   ],
   "source": [
    "test_ds = test_ds.reshape(test_ds.shape[0], 32, 32, 1)\n",
    "predictions_test = model.predict(test_ds)\n",
    "predictions = np.squeeze(predictions_test)\n",
    "\n",
    "i = 0\n",
    "predictions_test_approx = []\n",
    "for value in predictions:\n",
    "    value_approx = int(round(value,0))\n",
    "    predictions_test_approx.append(value_approx)\n",
    "\n",
    "predictions_test_approx = np.asarray(predictions_test_approx)"
   ]
  },
  {
   "cell_type": "code",
   "execution_count": null,
   "metadata": {},
   "outputs": [
    {
     "name": "stdout",
     "output_type": "stream",
     "text": [
      "[[8897    0]\n",
      " [  26   18]]\n",
      "0.7384615384615384\n"
     ]
    },
    {
     "data": {
      "image/png": "[encoded data removed]",
      "text/plain": [
       "<Figure size 640x480 with 2 Axes>"
      ]
     },
     "metadata": {},
     "output_type": "display_data"
    }
   ],
   "source": [
    "cm_test = metrics.confusion_matrix(test_labels, predictions_test_approx)\n",
    "print(cm_test)\n",
    "cm_display = metrics.ConfusionMatrixDisplay(cm_test).plot()\n",
    "print(F1)"
   ]
  },
  {
   "cell_type": "code",
   "execution_count": null,
   "metadata": {},
   "outputs": [],
   "source": [
    "tp = []\n",
    "fp = []\n",
    "fn = []\n",
    "tn = []\n",
    "\n",
    "for i in range(len(test_ds)):\n",
    "    if test_labels[i] == 1 and predictions_test_approx[i] == 1:\n",
    "        tp.append(i)\n",
    "\n",
    "for i in range(len(test_ds)):\n",
    "    if test_labels[i] == 0 and predictions_test_approx[i] == 1:\n",
    "        fp.append(i)\n",
    "\n",
    "for i in range(len(test_ds)):\n",
    "    if test_labels[i] == 1 and predictions_test_approx[i] == 0:\n",
    "        fn.append(i)\n",
    "\n",
    "for i in range(len(test_ds)):\n",
    "    if test_labels[i] == 0 and predictions_test_approx[i] == 0:\n",
    "        tn.append(i)"
   ]
  },
  {
   "cell_type": "code",
   "execution_count": null,
   "metadata": {},
   "outputs": [],
   "source": [
    "test_list = [\"/Users/giacomosantoni/Desktop/TESI/Progetto_ML/blindcams/data/good_data_last4/response.drdf\"]\n",
    "labels_list = [ \"/Users/giacomosantoni/Desktop/TESI/Progetto_ML/blindcams/data/good_data_last4/sensors.root\"]\n",
    "\n",
    "file3, file3_labels, inner_photons_file3 = DatasetCut(labels_list, test_list)"
   ]
  },
  {
   "cell_type": "code",
   "execution_count": null,
   "metadata": {},
   "outputs": [
    {
     "name": "stdout",
     "output_type": "stream",
     "text": [
      "1676/1676 [==============================] - 7s 4ms/step\n"
     ]
    }
   ],
   "source": [
    "predictions_file = model.predict(file3)\n",
    "predictions_file = np.squeeze(predictions_file)"
   ]
  },
  {
   "cell_type": "code",
   "execution_count": null,
   "metadata": {},
   "outputs": [],
   "source": [
    "i = 0\n",
    "predictions_approx = []\n",
    "for value in predictions_file:\n",
    "    if value >= 0.5:\n",
    "        value_approx = 1\n",
    "    if value < 0.5:\n",
    "        value_approx = 0\n",
    "    predictions_approx.append(value_approx)\n",
    "\n",
    "predictions_approx = np.asarray(predictions_approx)"
   ]
  },
  {
   "cell_type": "code",
   "execution_count": null,
   "metadata": {},
   "outputs": [
    {
     "name": "stdout",
     "output_type": "stream",
     "text": [
      "[[53077    26]\n",
      " [  218   308]]\n",
      "0.7162790697674419\n"
     ]
    },
    {
     "data": {
      "image/png": "[encoded data removed]",
      "text/plain": [
       "<Figure size 640x480 with 2 Axes>"
      ]
     },
     "metadata": {},
     "output_type": "display_data"
    }
   ],
   "source": [
    "#test_labels ha shape 4860\n",
    "cm = metrics.confusion_matrix(file3_labels, predictions_approx)\n",
    "print(cm)\n",
    "cm_display = metrics.ConfusionMatrixDisplay(cm).plot()\n",
    "F1 = metrics.f1_score(file3_labels, predictions_approx, average = 'binary')\n",
    "print(F1)"
   ]
  },
  {
   "cell_type": "code",
   "execution_count": null,
   "metadata": {},
   "outputs": [],
   "source": [
    "tp_list = []\n",
    "fp_list = []\n",
    "fn_list = []\n",
    "tn_list = []\n",
    "\n",
    "for i in range(len(file3)):\n",
    "    if file3_labels[i] == 1 and predictions_approx[i] == 1:\n",
    "        tp_list.append(i)\n",
    "\n",
    "for i in range(len(file3)):\n",
    "    if file3_labels[i] == 0 and predictions_approx[i] == 1:\n",
    "        fp_list.append(i)\n",
    "\n",
    "for i in range(len(file3)):\n",
    "    if file3_labels[i] == 1 and predictions_approx[i] == 0:\n",
    "        fn_list.append(i)\n",
    "\n",
    "for i in range(len(file3)):\n",
    "    if file3_labels[i] == 0 and predictions_approx[i] == 0:\n",
    "        tn_list.append(i)"
   ]
  },
  {
   "cell_type": "code",
   "execution_count": null,
   "metadata": {},
   "outputs": [
    {
     "name": "stdout",
     "output_type": "stream",
     "text": [
      "2447\n",
      "425\n",
      "386\n",
      "1395\n",
      "1509\n",
      "12092\n",
      "348\n",
      "515\n",
      "268\n",
      "194\n",
      "431\n",
      "398\n",
      "125\n",
      "94\n",
      "327\n",
      "298\n",
      "1378\n",
      "47\n",
      "779\n",
      "57\n",
      "1\n",
      "163\n",
      "324\n",
      "2685\n",
      "148\n",
      "809\n",
      "7\n",
      "121\n",
      "110\n",
      "213\n",
      "398\n",
      "528\n",
      "1910\n",
      "319\n",
      "46\n",
      "49\n",
      "19\n",
      "239\n",
      "774\n",
      "192\n",
      "492\n",
      "265\n",
      "3115\n",
      "193\n",
      "340\n",
      "113\n",
      "43\n",
      "584\n",
      "132\n",
      "12\n",
      "24\n",
      "29\n",
      "373\n",
      "137\n",
      "484\n",
      "409\n",
      "73\n",
      "31\n",
      "709\n",
      "277\n",
      "579\n",
      "588\n",
      "654\n",
      "748\n",
      "375\n",
      "268\n",
      "96\n",
      "381\n",
      "1655\n",
      "72\n",
      "573\n",
      "1056\n",
      "7548\n",
      "244\n",
      "210\n",
      "412\n",
      "274\n",
      "339\n",
      "707\n",
      "575\n",
      "140\n",
      "33\n",
      "1027\n",
      "197\n",
      "82\n",
      "378\n",
      "119\n",
      "114\n",
      "654\n",
      "610\n",
      "244\n",
      "129\n",
      "423\n",
      "5\n",
      "108\n",
      "1035\n",
      "139\n",
      "85\n",
      "346\n",
      "250\n",
      "278\n",
      "394\n",
      "101\n",
      "98\n",
      "59\n",
      "172\n",
      "51\n",
      "215\n",
      "553\n",
      "100\n",
      "134\n",
      "388\n",
      "51\n",
      "341\n",
      "152\n",
      "363\n",
      "765\n",
      "606\n",
      "2460\n",
      "373\n",
      "103\n",
      "283\n",
      "119\n",
      "244\n",
      "2958\n",
      "382\n",
      "301\n",
      "115\n",
      "48\n",
      "10\n",
      "767\n",
      "1495\n",
      "215\n",
      "100\n",
      "156\n",
      "58\n",
      "473\n",
      "455\n",
      "44\n",
      "626\n",
      "46\n",
      "242\n",
      "205\n",
      "48\n",
      "55\n",
      "178\n",
      "270\n",
      "62\n",
      "183\n",
      "72\n",
      "166\n",
      "90\n",
      "236\n",
      "325\n",
      "8\n",
      "6\n",
      "222\n",
      "553\n",
      "3\n",
      "11\n",
      "84\n",
      "1412\n",
      "290\n",
      "132\n",
      "243\n",
      "438\n",
      "215\n",
      "6\n",
      "75\n",
      "43\n",
      "68\n",
      "46\n",
      "72\n",
      "7\n",
      "18\n",
      "238\n",
      "476\n",
      "7\n",
      "639\n",
      "1682\n",
      "214\n",
      "12251\n",
      "157\n",
      "1449\n",
      "22\n",
      "796\n",
      "20\n",
      "464\n",
      "272\n",
      "6933\n",
      "220\n",
      "16\n",
      "73\n",
      "124\n",
      "290\n",
      "137\n",
      "933\n",
      "334\n",
      "552\n",
      "347\n",
      "91\n",
      "156\n",
      "62\n",
      "567\n",
      "402\n",
      "839\n",
      "3025\n",
      "10\n",
      "9643\n",
      "181\n",
      "986\n",
      "256\n",
      "14\n",
      "199\n",
      "50\n",
      "125\n",
      "223\n",
      "199\n",
      "670\n",
      "876\n",
      "461\n",
      "834\n",
      "455\n",
      "65\n",
      "7\n",
      "151\n",
      "19\n",
      "38\n",
      "402\n",
      "1150\n",
      "876\n",
      "536\n",
      "31\n",
      "1963\n",
      "118\n",
      "848\n",
      "37\n",
      "545\n",
      "7\n",
      "67\n",
      "337\n",
      "48\n",
      "1781\n",
      "170\n",
      "1838\n",
      "108\n",
      "38\n",
      "134\n",
      "571\n",
      "638\n",
      "236\n",
      "1562\n",
      "565\n",
      "1016\n",
      "7523\n",
      "1096\n",
      "65\n",
      "52\n",
      "10\n",
      "411\n",
      "84\n",
      "1710\n",
      "3239\n",
      "129\n",
      "11\n",
      "232\n",
      "35\n",
      "477\n",
      "312\n",
      "2184\n",
      "306\n",
      "210\n",
      "1140\n",
      "53\n",
      "28\n",
      "116\n",
      "1024\n",
      "267\n",
      "47\n",
      "44\n",
      "719\n",
      "2189\n",
      "64\n",
      "331\n",
      "1538\n",
      "509\n",
      "75\n",
      "8\n",
      "190\n",
      "448\n",
      "4\n",
      "449\n",
      "562\n",
      "106\n",
      "224\n",
      "102\n",
      "463\n",
      "3\n",
      "56\n",
      "291\n",
      "74\n",
      "52\n",
      "413\n",
      "62\n",
      "24\n",
      "59\n",
      "145\n",
      "56\n",
      "185\n",
      "1974\n",
      "198\n",
      "384\n",
      "93\n",
      "20\n",
      "20\n",
      "7\n",
      "920\n",
      "217\n",
      "242\n",
      "84\n",
      "122\n",
      "374\n",
      "7\n",
      "173\n",
      "183\n",
      "265\n",
      "1\n",
      "385\n",
      "205\n",
      "312\n",
      "245\n",
      "954\n",
      "405\n",
      "386\n",
      "2\n",
      "3512\n",
      "3775\n",
      "420\n",
      "1278\n",
      "8\n",
      "381\n",
      "236\n",
      "1135\n",
      "138\n",
      "214\n",
      "368\n",
      "182\n",
      "321\n",
      "11\n",
      "430\n",
      "190\n",
      "212\n",
      "256\n",
      "316\n",
      "291\n",
      "12\n",
      "309\n",
      "40\n",
      "304\n",
      "18\n",
      "43\n",
      "69\n",
      "101\n",
      "342\n",
      "474\n",
      "115\n",
      "520\n",
      "49\n",
      "54\n",
      "586\n",
      "473\n",
      "204\n",
      "284\n",
      "302\n",
      "139\n",
      "2\n",
      "507\n",
      "705\n",
      "1\n",
      "619\n",
      "62\n",
      "261\n",
      "60\n",
      "1088\n",
      "401\n",
      "219\n",
      "96\n",
      "10\n",
      "19\n",
      "23\n",
      "122\n",
      "114\n",
      "138\n",
      "604\n",
      "305\n",
      "62\n",
      "61\n",
      "429\n",
      "81\n",
      "9\n",
      "270\n",
      "170\n",
      "137\n",
      "163\n",
      "134\n",
      "39\n",
      "477\n",
      "1873\n",
      "465\n",
      "420\n",
      "28\n",
      "210\n",
      "386\n",
      "30\n",
      "131\n",
      "670\n",
      "242\n",
      "42\n",
      "1302\n",
      "120\n",
      "290\n",
      "49\n",
      "722\n",
      "129\n",
      "127\n",
      "252\n",
      "885\n",
      "480\n",
      "761\n",
      "1386\n",
      "4\n",
      "215\n",
      "253\n",
      "499\n",
      "424\n",
      "163\n",
      "382\n",
      "350\n",
      "325\n",
      "875\n",
      "1303\n",
      "3830\n",
      "399\n",
      "546\n",
      "43\n",
      "1339\n",
      "20\n",
      "394\n",
      "73\n",
      "704\n",
      "60\n",
      "72\n",
      "37\n",
      "285\n",
      "25\n",
      "2948\n",
      "112\n",
      "168\n",
      "153\n",
      "783\n",
      "353\n",
      "287\n",
      "193\n",
      "326\n",
      "279\n",
      "779\n",
      "610\n",
      "139\n",
      "112\n",
      "439\n",
      "346\n",
      "18\n",
      "412\n",
      "429\n",
      "51\n",
      "649\n",
      "177\n",
      "3898\n",
      "504\n",
      "925\n",
      "2087\n",
      "459\n",
      "124\n",
      "458\n",
      "297\n",
      "440\n",
      "102\n",
      "559\n",
      "291\n",
      "178\n",
      "163\n",
      "2\n",
      "103\n",
      "57\n",
      "1270\n",
      "593\n",
      "262\n",
      "153\n",
      "2044\n",
      "82\n",
      "513\n",
      "52\n",
      "748\n",
      "258\n",
      "1603\n",
      "18\n",
      "20\n",
      "303\n",
      "48\n",
      "116\n",
      "1826\n",
      "444\n",
      "214\n",
      "97\n",
      "17\n",
      "109\n",
      "6\n",
      "122\n",
      "332\n",
      "504\n",
      "80\n",
      "145\n",
      "801\n",
      "87\n",
      "6949\n",
      "248\n",
      "2231\n",
      "253\n",
      "545\n",
      "145\n",
      "585\n",
      "4\n",
      "350\n",
      "490\n",
      "1048\n",
      "1691\n",
      "293\n"
     ]
    }
   ],
   "source": [
    "for i in tn_list:\n",
    "    if inner_photons_file3[i] != 0:\n",
    "        print(inner_photons_file3[i])"
   ]
  },
  {
   "cell_type": "code",
   "execution_count": null,
   "metadata": {},
   "outputs": [
    {
     "name": "stdout",
     "output_type": "stream",
     "text": [
      "0\n"
     ]
    },
    {
     "data": {
      "image/png": "[encoded data removed]",
      "text/plain": [
       "<Figure size 640x480 with 2 Axes>"
      ]
     },
     "metadata": {},
     "output_type": "display_data"
    },
    {
     "name": "stdout",
     "output_type": "stream",
     "text": [
      "0\n"
     ]
    },
    {
     "data": {
      "image/png": "[encoded data removed]",
      "text/plain": [
       "<Figure size 640x480 with 2 Axes>"
      ]
     },
     "metadata": {},
     "output_type": "display_data"
    },
    {
     "name": "stdout",
     "output_type": "stream",
     "text": [
      "0\n"
     ]
    },
    {
     "data": {
      "image/png": "[encoded data removed]",
      "text/plain": [
       "<Figure size 640x480 with 2 Axes>"
      ]
     },
     "metadata": {},
     "output_type": "display_data"
    },
    {
     "name": "stdout",
     "output_type": "stream",
     "text": [
      "0\n"
     ]
    },
    {
     "data": {
      "image/png": "[encoded data removed]",
      "text/plain": [
       "<Figure size 640x480 with 2 Axes>"
      ]
     },
     "metadata": {},
     "output_type": "display_data"
    }
   ],
   "source": [
    "for i in fp_list:\n",
    "    if inner_photons_file3[i] == 0:\n",
    "        print(inner_photons_file3[i])\n",
    "        plt.imshow(file3[i])\n",
    "        plt.colorbar()\n",
    "        plt.show()"
   ]
  },
  {
   "cell_type": "code",
   "execution_count": null,
   "metadata": {},
   "outputs": [],
   "source": [
    "import sys\n",
    "\n",
    "original_stdout = sys.stdout # Save a reference to the original standard output\n",
    "\n",
    "with open('results.txt', 'a') as f:\n",
    "    sys.stdout = f # Change the standard output to the file we created.\n",
    "    model.summary()\n",
    "    print(\"ratio_thr, sum_thr, perc_val, perc_train: \", InitializeDatasetParameters())\n",
    "    print(\"batch_size, epochs, input_shape, metric,loss_func: \", InitializeCNNParameters())\n",
    "    print(cm_test)\n",
    "    print(cm)\n",
    "    sys.stdout = original_stdout # Reset the standard output to its original value"
   ]
  }
 ],
 "metadata": {
  "kernelspec": {
   "display_name": "Python 3",
   "language": "python",
   "name": "python3"
  },
  "language_info": {
   "codemirror_mode": {
    "name": "ipython",
    "version": 3
   },
   "file_extension": ".py",
   "mimetype": "text/x-python",
   "name": "python",
   "nbconvert_exporter": "python",
   "pygments_lexer": "ipython3",
   "version": "3.11.6"
  },
  "orig_nbformat": 4
 },
 "nbformat": 4,
 "nbformat_minor": 2
}
