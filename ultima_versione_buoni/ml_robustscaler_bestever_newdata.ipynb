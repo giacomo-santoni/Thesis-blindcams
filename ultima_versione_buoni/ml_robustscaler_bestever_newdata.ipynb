{
 "cells": [
  {
   "cell_type": "code",
   "execution_count": 2,
   "metadata": {},
   "outputs": [],
   "source": [
    "import drdf\n",
    "import matplotlib.pyplot as plt\n",
    "import numpy as np"
   ]
  },
  {
   "cell_type": "code",
   "execution_count": 3,
   "metadata": {},
   "outputs": [],
   "source": [
    "def load_drdf(fname):\n",
    "  reader = drdf.DRDF()\n",
    "  reader.read(fname)\n",
    "  events = []\n",
    "  for run in reader.runs:\n",
    "    for event in reader.runs[run]:\n",
    "      hits_map = dict()\n",
    "      for cam, img in reader.runs[run][event].items():\n",
    "        amplitude = img.pixels[:, :, 0] \n",
    "        time = img.pixels[:, :, 1]\n",
    "        hits_map[cam] = amplitude\n",
    "      events.append((event, hits_map))\n",
    "  return events"
   ]
  },
  {
   "cell_type": "code",
   "execution_count": 4,
   "metadata": {},
   "outputs": [],
   "source": [
    "file_drdf_list = [\"/Users/giacomosantoni/Desktop/TESI/Progetto_ML/blindcams/data/good_data_last1/response.drdf\", \"/Users/giacomosantoni/Desktop/TESI/Progetto_ML/blindcams/data/good_data_last2/response.drdf\"]\n",
    "file_root_list = [\"/Users/giacomosantoni/Desktop/TESI/Progetto_ML/blindcams/data/good_data_last1/sensors.root\", \"/Users/giacomosantoni/Desktop/TESI/Progetto_ML/blindcams/data/good_data_last2/sensors.root\"]"
   ]
  },
  {
   "cell_type": "code",
   "execution_count": 5,
   "metadata": {},
   "outputs": [],
   "source": [
    "def CamList(fname):\n",
    "    cam_list = []\n",
    "    file = load_drdf(fname)\n",
    "    for cam in file[0][1]:\n",
    "        cam_list.append(cam)\n",
    "    return cam_list"
   ]
  },
  {
   "cell_type": "code",
   "execution_count": 6,
   "metadata": {},
   "outputs": [],
   "source": [
    "#creo una matrice 1000 righe x 54 colonne. ogni elemento è una camera 31x31\n",
    "def AllImages(fname): \n",
    "    all_images_list = []\n",
    "    cam_list = CamList(fname)\n",
    "    file = load_drdf(fname)\n",
    "    for i in range(len(file)):\n",
    "        ph_matrix = []\n",
    "        for cam in cam_list:\n",
    "            ph_matrix.append(file[i][1][cam])\n",
    "        all_images_list.append(ph_matrix)\n",
    "    all_images = np.array(all_images_list)\n",
    "    return all_images"
   ]
  },
  {
   "cell_type": "code",
   "execution_count": 7,
   "metadata": {},
   "outputs": [],
   "source": [
    "def DimensionsData(fname):\n",
    "    all_images = AllImages(fname)\n",
    "    cam_list = CamList(fname)\n",
    "    nr_events = len(all_images)\n",
    "    nr_pixels = len(all_images[0][0])\n",
    "    nr_cams = len(cam_list)\n",
    "    nr_tot_events = nr_cams*nr_events\n",
    "    nr_pixels_1_ev = nr_pixels*nr_pixels*nr_cams\n",
    "    return nr_events, nr_pixels, nr_cams, nr_tot_events, nr_pixels_1_ev"
   ]
  },
  {
   "cell_type": "code",
   "execution_count": 8,
   "metadata": {},
   "outputs": [],
   "source": [
    "#creo una matrice di 1000 righe e 51894 colonne. Così per ogni evento, la riga corrispondente presenta tutti i pixel di tutte le camere\n",
    "def PixelsAllCamsPerEvents(fname):\n",
    "    all_images = AllImages(fname)\n",
    "    nr_events, nr_pixels, nr_cams, nr_tot_events, nr_pixels_1_ev = DimensionsData(fname)\n",
    "    pixels_to_scale = []\n",
    "    for images_all_cams_per_ev in all_images: \n",
    "        pixels_all_cams_per_ev = images_all_cams_per_ev.flatten()\n",
    "        pixels_to_scale.append(pixels_all_cams_per_ev)\n",
    "    pixels_to_scale = np.asarray(pixels_to_scale)\n",
    "    pixels_to_scale_matrix = pixels_to_scale.reshape(nr_events,nr_pixels_1_ev,1)\n",
    "    return pixels_to_scale_matrix"
   ]
  },
  {
   "cell_type": "code",
   "execution_count": 9,
   "metadata": {},
   "outputs": [],
   "source": [
    "def PlotCamsImages(fname):\n",
    "    all_images = AllImages(fname)\n",
    "    file = load_drdf(fname)\n",
    "    cam_list = CamList(fname)\n",
    "    for i in range(len(all_images)):\n",
    "        #for cam in cam_list:\n",
    "        for j in range(len(all_images[i])):\n",
    "            plt.imshow(all_images[i][j], interpolation='none')\n",
    "            plt.colorbar()\n",
    "            plt.title(f\"event {file[i][0]} on {cam_list[j]}\")\n",
    "            plt.show()\n",
    "            break\n",
    "        break\n",
    "\n",
    "#PlotCamsImages()"
   ]
  },
  {
   "cell_type": "markdown",
   "metadata": {},
   "source": [
    "SCALING DATA"
   ]
  },
  {
   "cell_type": "code",
   "execution_count": 10,
   "metadata": {},
   "outputs": [],
   "source": [
    "#non lo uso\n",
    "from sklearn.preprocessing import RobustScaler\n",
    "\n",
    "#applico lo scaling su vettori colonne che sono le camere 31x31 appiattite\n",
    "def ScalingData(fname):\n",
    "    pixels_to_scale_matrix = PixelsAllCamsPerEvents(fname)\n",
    "    nr_events, nr_pixels, nr_cams, nr_tot_events, nr_pixels_1_ev = DimensionsData(fname)\n",
    "    photons_scaled_all_ev = []\n",
    "    for pixels in pixels_to_scale_matrix:\n",
    "        transformer = RobustScaler().fit(pixels)\n",
    "        photons_scaled_in_cam = transformer.transform(pixels)\n",
    "        photons_scaled_all_ev.append(photons_scaled_in_cam)\n",
    "    photons_scaled_all_ev_matrix = np.asarray(photons_scaled_all_ev)\n",
    "    all_images_scaled = photons_scaled_all_ev_matrix.reshape(nr_events,nr_cams,nr_pixels,nr_pixels)\n",
    "    return all_images_scaled"
   ]
  },
  {
   "cell_type": "code",
   "execution_count": 11,
   "metadata": {},
   "outputs": [],
   "source": [
    "#ora ho una matrice 1000righex54colonne dove un elemento è una matrice 31x31. Per essere consistente con i dati di root la voglio trasformare in un array di 54000 elementi\n",
    "def Flattening(fname):\n",
    "    all_images_scaled = ScalingData(fname)\n",
    "    all_images_scaled_1d = []\n",
    "    for sublist in all_images_scaled:\n",
    "        all_images_scaled_1d.extend(sublist)\n",
    "    return all_images_scaled_1d"
   ]
  },
  {
   "cell_type": "code",
   "execution_count": 12,
   "metadata": {},
   "outputs": [],
   "source": [
    "def Reshaping(fname):\n",
    "    all_images_scaled_1d_reshaped = []\n",
    "    all_images = AllImages(fname)\n",
    "    all_images_scaled_1d = Flattening(fname)\n",
    "    nr_events, nr_pixels, nr_cams, nr_tot_events, nr_pixels_1_ev = DimensionsData(fname)\n",
    "    for data in all_images_scaled_1d:\n",
    "        data_new = data.reshape(nr_pixels,nr_pixels,1)\n",
    "        all_images_scaled_1d_reshaped.append(data_new)\n",
    "    return all_images_scaled_1d_reshaped"
   ]
  },
  {
   "cell_type": "code",
   "execution_count": 13,
   "metadata": {},
   "outputs": [],
   "source": [
    "def PlotCamsImages(fname):\n",
    "    all_images_scaled = ScalingData(fname)\n",
    "    file = load_drdf(fname)\n",
    "    cam_list = CamList(fname)\n",
    "    for i in range(len(all_images_scaled)):\n",
    "        for j in range(len(all_images_scaled[i])):\n",
    "            plt.imshow(all_images_scaled[i][j], interpolation='none')\n",
    "            plt.colorbar()\n",
    "            plt.title(f\"event {file[i][0]} on {cam_list[j]}\")\n",
    "            plt.show()\n",
    "            break\n",
    "        break"
   ]
  },
  {
   "cell_type": "code",
   "execution_count": 14,
   "metadata": {},
   "outputs": [],
   "source": [
    "def PreprocessWithScaling(fname):\n",
    "    return Reshaping(fname)"
   ]
  },
  {
   "cell_type": "code",
   "execution_count": 15,
   "metadata": {},
   "outputs": [],
   "source": [
    "def PreprocessNotScaled(fname):\n",
    "    matrix = AllImages(fname)\n",
    "    nr_events, nr_pixels, nr_cams, nr_tot_events, nr_pixels_1_ev = DimensionsData(fname)\n",
    "    array = matrix.reshape(nr_events*nr_cams, nr_pixels, nr_pixels)\n",
    "    return array"
   ]
  },
  {
   "cell_type": "code",
   "execution_count": 16,
   "metadata": {},
   "outputs": [],
   "source": [
    "def SumPhotons(fname):\n",
    "    tot_photons = []\n",
    "    all_images = PreprocessNotScaled(fname)\n",
    "    for j in all_images:\n",
    "        sum_ph = np.sum(j)\n",
    "        tot_photons.append(sum_ph)\n",
    "    return tot_photons"
   ]
  },
  {
   "cell_type": "markdown",
   "metadata": {},
   "source": [
    "ROOT"
   ]
  },
  {
   "cell_type": "code",
   "execution_count": 17,
   "metadata": {},
   "outputs": [
    {
     "name": "stdout",
     "output_type": "stream",
     "text": [
      "Welcome to JupyROOT 6.28/06\n"
     ]
    }
   ],
   "source": [
    "import ROOT as root\n",
    "\n",
    "def OpenRootFile(rname,fname):\n",
    "    #sensor1.root è il file; ogni camera è un TTree\n",
    "    input_file = root.TFile.Open(rname, \"READ\")\n",
    "\n",
    "    cam_list = CamList(fname)\n",
    "\n",
    "    nr_photons_list_all_cams_list = []\n",
    "    for cam in cam_list:\n",
    "        nr_photons_list = []\n",
    "        tree = input_file.Get(cam)\n",
    "        entries = tree.GetEntries()\n",
    "        for i in range(entries):\n",
    "            n = tree.GetEntry(i)\n",
    "            inner_photons = tree.innerPhotons\n",
    "            nr_photons_list.append(inner_photons)\n",
    "        nr_photons_list_all_cams_list.append(nr_photons_list)\n",
    "        nr_photons_list_all_cams_tr = np.array(nr_photons_list_all_cams_list)#ho creato una matrice 1000 colonne (nr eventi) x 54 righe (nr camere). I numeri che vediamo sono i numeri di fotoni che arrivano alla camera\n",
    "        nr_photons_list_all_cams = nr_photons_list_all_cams_tr.transpose()\n",
    "    return nr_photons_list_all_cams"
   ]
  },
  {
   "cell_type": "code",
   "execution_count": 18,
   "metadata": {},
   "outputs": [],
   "source": [
    "def InitializeDatasetParameters():\n",
    "    ratio_thr = 0.1\n",
    "    sum_thr = 40\n",
    "    return ratio_thr, sum_thr\n",
    "\n",
    "ratio_thr, sum_thr = InitializeDatasetParameters()"
   ]
  },
  {
   "cell_type": "code",
   "execution_count": 19,
   "metadata": {},
   "outputs": [],
   "source": [
    "def EventListNumber(fname):\n",
    "    file = load_drdf(fname)\n",
    "    ev_list = []\n",
    "    for i in range(len(file)):\n",
    "        ev_list.append(file[i][0])\n",
    "    return ev_list"
   ]
  },
  {
   "cell_type": "code",
   "execution_count": 20,
   "metadata": {},
   "outputs": [],
   "source": [
    "def column(matrix, i):\n",
    "    column = [row[i] for row in matrix]\n",
    "    return column\n",
    "\n",
    "def RootDataDictionary(rname,fname):\n",
    "    nr_photons_list_all_cams = OpenRootFile(rname, fname)\n",
    "    cam_list = CamList(fname)\n",
    "    ev_list = EventListNumber(fname)\n",
    "\n",
    "    final_root_data = []\n",
    "    for i in range(len(nr_photons_list_all_cams)):\n",
    "        nr_photon_in_cam = []\n",
    "        for j in range(len(nr_photons_list_all_cams[i])):\n",
    "            nr_photon_in_cam.append(nr_photons_list_all_cams[i][j])\n",
    "        dict_cam_ev = dict(zip(cam_list, nr_photon_in_cam))\n",
    "        final_root_data.append((ev_list[i], dict_cam_ev))\n",
    "    return final_root_data"
   ]
  },
  {
   "cell_type": "code",
   "execution_count": 21,
   "metadata": {},
   "outputs": [],
   "source": [
    "def InnerPhotonsList(rname,fname):\n",
    "    final_root_data = RootDataDictionary(rname, fname)\n",
    "    inner_photons_list = []\n",
    "    for i in range(len(final_root_data)):\n",
    "        for cam in final_root_data[i][1].keys():\n",
    "            inner_photons_list.append(final_root_data[i][1][cam])  \n",
    "    inner_photons_list = np.asarray(inner_photons_list)\n",
    "    return inner_photons_list\n",
    "\n",
    "def CamStatesRootList(rname,fname):\n",
    "    inner_photons_list = InnerPhotonsList(rname,fname)\n",
    "    tot_photons = SumPhotons(fname)\n",
    "    \n",
    "    ev_cam_state = []\n",
    "    for i in range(len(inner_photons_list)):\n",
    "        np.seterr(divide='ignore', invalid='ignore')\n",
    "        ratio = inner_photons_list[i]/tot_photons[i]\n",
    "        if ratio >= 0.1:\n",
    "            value = 0\n",
    "        elif ratio < 0.1:\n",
    "            value = 1\n",
    "        ev_cam_state.append(value)\n",
    "    return ev_cam_state"
   ]
  },
  {
   "cell_type": "code",
   "execution_count": 22,
   "metadata": {},
   "outputs": [],
   "source": [
    "def RootPreprocessing(rname, fname):\n",
    "    return CamStatesRootList(rname, fname)"
   ]
  },
  {
   "cell_type": "markdown",
   "metadata": {},
   "source": [
    "CNN MODEL"
   ]
  },
  {
   "cell_type": "code",
   "execution_count": 23,
   "metadata": {},
   "outputs": [],
   "source": [
    "import tensorflow as tf\n",
    "from tensorflow import keras\n",
    "from keras import layers, models\n",
    "from sklearn.model_selection import train_test_split"
   ]
  },
  {
   "cell_type": "code",
   "execution_count": 24,
   "metadata": {},
   "outputs": [],
   "source": [
    "def Cut(rname: list, fname: list):\n",
    "    all_images = np.concatenate([PreprocessNotScaled(f) for f in fname]) \n",
    "    root_images = np.concatenate([RootPreprocessing(rname[i],fname[i]) for i in range(len(fname))]) \n",
    "    all_images_scaled = np.concatenate([PreprocessWithScaling(f) for f in fname])\n",
    "\n",
    "    index_to_cut = []\n",
    "    i = 0\n",
    "    for image in all_images:\n",
    "        if np.sum(image)<40:\n",
    "            index_to_cut.append(i)\n",
    "        i += 1\n",
    "    return index_to_cut, all_images, root_images, all_images_scaled"
   ]
  },
  {
   "cell_type": "code",
   "execution_count": 25,
   "metadata": {},
   "outputs": [],
   "source": [
    "def DatasetCut(rname: list, fname: list):\n",
    "    index_to_cut, all_images, root_images, all_images_scaled = Cut(rname, fname)\n",
    "    all_images_list = list(all_images)\n",
    "    root_images_list = list(root_images)\n",
    "    all_images_scaled_list = list(all_images_scaled)\n",
    "    \n",
    "    for i in sorted(index_to_cut, reverse=True):\n",
    "        del all_images_list[i], root_images_list[i], all_images_scaled_list[i]\n",
    "\n",
    "    data_cut = np.array(all_images_list)\n",
    "    root_cut = np.array(root_images_list)\n",
    "    data_scaled_cut = np.array(all_images_scaled_list)\n",
    "\n",
    "    data_cut = data_cut.reshape(data_cut.shape[0],32,32,1)\n",
    "    data_scaled_cut = data_scaled_cut.reshape(data_scaled_cut.shape[0],32,32,1)\n",
    "\n",
    "    return data_cut, root_cut, data_scaled_cut"
   ]
  },
  {
   "cell_type": "code",
   "execution_count": 26,
   "metadata": {},
   "outputs": [],
   "source": [
    "data_cut, root_cut, data_scaled_cut = DatasetCut(file_root_list, file_drdf_list)"
   ]
  },
  {
   "cell_type": "code",
   "execution_count": 27,
   "metadata": {},
   "outputs": [],
   "source": [
    "def PrepareData(rname: list, fname: list):\n",
    "    data_cut, root_cut, data_scaled_cut = DatasetCut(rname, fname)\n",
    "    t_ds, val_ds, t_labels, val_labels = train_test_split(data_scaled_cut, root_cut, train_size=0.99, random_state=42)\n",
    "    train_ds, test_ds, train_labels, test_labels = train_test_split(t_ds, t_labels, train_size=0.9, random_state=42)\n",
    "\n",
    "    train_ds = np.asarray(train_ds)\n",
    "    val_ds = np.asarray(val_ds)\n",
    "    test_ds = np.asarray(test_ds)\n",
    "\n",
    "    train_ds = train_ds.reshape(train_ds.shape[0], 32, 32,1)\n",
    "    val_ds = val_ds.reshape(val_ds.shape[0], 32, 32, 1)\n",
    "    test_ds = test_ds.reshape(test_ds.shape[0],32,32,1)\n",
    "\n",
    "    return train_ds, val_ds, test_ds, train_labels, val_labels, test_labels"
   ]
  },
  {
   "cell_type": "code",
   "execution_count": 28,
   "metadata": {},
   "outputs": [],
   "source": [
    "def FindBlindEvents(rarray,farray):\n",
    "    n = 0\n",
    "    nr_blind_events = []\n",
    "    blind_events = []\n",
    "    for i in rarray:\n",
    "        if i == 0:\n",
    "            nr_blind_events.append(n)\n",
    "        n+=1\n",
    "    for i in nr_blind_events:\n",
    "        blind_events.append(farray[i])\n",
    "    return nr_blind_events, blind_events"
   ]
  },
  {
   "cell_type": "code",
   "execution_count": 29,
   "metadata": {},
   "outputs": [],
   "source": [
    "def Augmentation(rarray, farray):\n",
    "    input_shape = [32,32,32,1]\n",
    "    data_augmentation = keras.Sequential()\n",
    "    data_augmentation.add(layers.RandomFlip(\"horizontal\", input_shape=input_shape[1:]))\n",
    "    data_augmentation.add(layers.RandomFlip(\"vertical\", input_shape=input_shape[1:]))\n",
    "    data_augmentation.add(layers.RandomRotation(0.2))\n",
    "    #data_augmentation.add(layers.RandomTranslation(0.2,0.2))\n",
    "    #data_augmentation.add(layers.RandomZoom(0.8))\n",
    "    \n",
    "    nr_blind_events1, blind_events1 = FindBlindEvents(rarray,farray)\n",
    "\n",
    "    augmented_ds = []\n",
    "    for blind_im in blind_events1:\n",
    "        for i in range(150):\n",
    "            augmented_image = data_augmentation(blind_im)\n",
    "            augmented_image_sq = np.squeeze(augmented_image, axis=3)\n",
    "            augmented_ds.append(augmented_image_sq)\n",
    "    augmented_ds = np.asarray(augmented_ds)\n",
    "\n",
    "    augmented_labels = len(augmented_ds)*[0]\n",
    "    return augmented_ds, augmented_labels"
   ]
  },
  {
   "cell_type": "code",
   "execution_count": 30,
   "metadata": {},
   "outputs": [],
   "source": [
    "def DatasetwithAugmentation(rname: list, fname: list, rarray, farray):\n",
    "    train_ds, val_ds, test_ds,train_labels, val_labels,test_labels = PrepareData(rname, fname)\n",
    "    augmented_ds, augmented_labels = Augmentation(rarray, farray)\n",
    "    train_ds_aug = np.concatenate((train_ds,augmented_ds),axis=0)\n",
    "    train_labels_aug = np.concatenate((train_labels,augmented_labels),axis=0)\n",
    "    return train_ds_aug, train_labels_aug"
   ]
  },
  {
   "cell_type": "code",
   "execution_count": 31,
   "metadata": {},
   "outputs": [],
   "source": [
    "def DatasetWeights(rarray, farray):\n",
    "    nr_blind_events1, blind_events1 = FindBlindEvents(rarray, farray)\n",
    "\n",
    "    augmented_ds, augmented_labels = Augmentation(rarray, farray)\n",
    "    \n",
    "    nr_blind_ev = len(nr_blind_events1) + len(augmented_ds)\n",
    "    nr_tot_ev = len(rarray) + len(augmented_ds)\n",
    "    nr_not_blind_ev = nr_tot_ev - nr_blind_ev\n",
    "\n",
    "    initial_bias = np.log(nr_blind_ev/nr_not_blind_ev)\n",
    "\n",
    "    weights_0 = (1/nr_blind_ev)*(nr_tot_ev/2)\n",
    "    weights_1 = (1/nr_not_blind_ev)*(nr_tot_ev/2)\n",
    "    weights_classes = {0: weights_0, 1: weights_1}\n",
    "\n",
    "    percentage = {0: nr_blind_ev/nr_tot_ev, 1: nr_not_blind_ev/nr_tot_ev}\n",
    "\n",
    "    return initial_bias, weights_classes, percentage"
   ]
  },
  {
   "cell_type": "code",
   "execution_count": 32,
   "metadata": {},
   "outputs": [],
   "source": [
    "train_ds, val_ds, test_ds,train_labels, val_labels,test_labels = PrepareData(file_root_list, file_drdf_list)"
   ]
  },
  {
   "cell_type": "code",
   "execution_count": 33,
   "metadata": {},
   "outputs": [],
   "source": [
    "train_ds_aug, train_labels_aug = DatasetwithAugmentation(file_root_list, file_drdf_list, root_cut, data_scaled_cut)"
   ]
  },
  {
   "cell_type": "code",
   "execution_count": 34,
   "metadata": {},
   "outputs": [],
   "source": [
    "initial_bias, weights_classes, percentage = DatasetWeights(root_cut, data_scaled_cut)\n",
    "epochs = 10"
   ]
  },
  {
   "cell_type": "code",
   "execution_count": 35,
   "metadata": {},
   "outputs": [
    {
     "data": {
      "text/plain": [
       "{0: 0.3492838169316608, 1: 0.6507161830683392}"
      ]
     },
     "execution_count": 35,
     "metadata": {},
     "output_type": "execute_result"
    }
   ],
   "source": [
    "percentage"
   ]
  },
  {
   "cell_type": "code",
   "execution_count": 36,
   "metadata": {},
   "outputs": [
    {
     "data": {
      "text/plain": [
       "{0: 1.4315006185867114, 1: 0.7683841481278931}"
      ]
     },
     "execution_count": 36,
     "metadata": {},
     "output_type": "execute_result"
    }
   ],
   "source": [
    "weights_classes"
   ]
  },
  {
   "cell_type": "code",
   "execution_count": 37,
   "metadata": {},
   "outputs": [],
   "source": [
    "def Training(rname: list, fname: list): \n",
    "    #initial_bias, weights_classes = DatasetWeights(rname,fname)\n",
    "    input_shape = [32,32,32,1]\n",
    "    output_bias = keras.initializers.Constant(initial_bias)\n",
    "\n",
    "    model = models.Sequential([\n",
    "    # Flatten layer per trasformare l'immagine in un vettore\n",
    "    layers.Conv2D(32, (3,3), activation='relu',input_shape = input_shape[1:]),\n",
    "    layers.MaxPooling2D((2,2)),\n",
    "    # layers.Conv2D(32, (3,3), activation='relu'),#input_shape = input_shape[1:]),\n",
    "    # layers.MaxPooling2D((2,2)),\n",
    "    layers.Flatten(),#(input_shape = input_shape[1:]),\n",
    "    \n",
    "    # Dense layers per la parte completamente connessa della rete\n",
    "    layers.Dense(128, activation='relu', bias_initializer=output_bias),\n",
    "    layers.Dense(64, activation='relu'),\n",
    "    layers.Dense(32,activation='relu'),\n",
    "    \n",
    "    # Output layer con un neurone e attivazione sigmoide per classificazione binaria\n",
    "    layers.Dense(1, activation='sigmoid')\n",
    "])\n",
    "\n",
    "    model.compile(optimizer='Adam', loss=tf.keras.losses.BinaryCrossentropy(), metrics=['accuracy'])#,'precision','recall'])\n",
    "    model.summary()\n",
    "    return model\n"
   ]
  },
  {
   "cell_type": "code",
   "execution_count": 38,
   "metadata": {},
   "outputs": [
    {
     "name": "stdout",
     "output_type": "stream",
     "text": [
      "Model: \"sequential_2\"\n",
      "_________________________________________________________________\n",
      " Layer (type)                Output Shape              Param #   \n",
      "=================================================================\n",
      " conv2d (Conv2D)             (None, 30, 30, 32)        320       \n",
      "                                                                 \n",
      " max_pooling2d (MaxPooling2  (None, 15, 15, 32)        0         \n",
      " D)                                                              \n",
      "                                                                 \n",
      " flatten (Flatten)           (None, 7200)              0         \n",
      "                                                                 \n",
      " dense (Dense)               (None, 128)               921728    \n",
      "                                                                 \n",
      " dense_1 (Dense)             (None, 64)                8256      \n",
      "                                                                 \n",
      " dense_2 (Dense)             (None, 32)                2080      \n",
      "                                                                 \n",
      " dense_3 (Dense)             (None, 1)                 33        \n",
      "                                                                 \n",
      "=================================================================\n",
      "Total params: 932417 (3.56 MB)\n",
      "Trainable params: 932417 (3.56 MB)\n",
      "Non-trainable params: 0 (0.00 Byte)\n",
      "_________________________________________________________________\n"
     ]
    }
   ],
   "source": [
    "model = Training(file_root_list, file_drdf_list)"
   ]
  },
  {
   "cell_type": "code",
   "execution_count": 39,
   "metadata": {},
   "outputs": [
    {
     "name": "stdout",
     "output_type": "stream",
     "text": [
      "Epoch 1/10\n",
      "4568/4568 [==============================] - 35s 8ms/step - loss: 0.0513 - accuracy: 0.9889 - val_loss: 0.0044 - val_accuracy: 1.0000\n",
      "Epoch 2/10\n",
      "4568/4568 [==============================] - 34s 7ms/step - loss: 0.0213 - accuracy: 0.9972 - val_loss: 0.0141 - val_accuracy: 0.9951\n",
      "Epoch 3/10\n",
      "4568/4568 [==============================] - 34s 7ms/step - loss: 0.0144 - accuracy: 0.9979 - val_loss: 0.0065 - val_accuracy: 0.9971\n",
      "Epoch 4/10\n",
      "4568/4568 [==============================] - 35s 8ms/step - loss: 0.0143 - accuracy: 0.9980 - val_loss: 0.0056 - val_accuracy: 0.9990\n",
      "Epoch 5/10\n",
      "4568/4568 [==============================] - 35s 8ms/step - loss: 0.0111 - accuracy: 0.9981 - val_loss: 0.0068 - val_accuracy: 0.9990\n",
      "Epoch 6/10\n",
      "4568/4568 [==============================] - 34s 7ms/step - loss: 0.0083 - accuracy: 0.9990 - val_loss: 0.0081 - val_accuracy: 0.9990\n",
      "Epoch 7/10\n",
      "4568/4568 [==============================] - 35s 8ms/step - loss: 0.0041 - accuracy: 0.9993 - val_loss: 0.0083 - val_accuracy: 0.9981\n",
      "Epoch 8/10\n",
      "4568/4568 [==============================] - 35s 8ms/step - loss: 0.0064 - accuracy: 0.9992 - val_loss: 0.0025 - val_accuracy: 1.0000\n",
      "Epoch 9/10\n",
      "4568/4568 [==============================] - 31s 7ms/step - loss: 0.0021 - accuracy: 0.9996 - val_loss: 0.0059 - val_accuracy: 0.9990\n",
      "Epoch 10/10\n",
      "4568/4568 [==============================] - 28s 6ms/step - loss: 0.0019 - accuracy: 0.9997 - val_loss: 0.0028 - val_accuracy: 1.0000\n"
     ]
    }
   ],
   "source": [
    "#callbacks = [keras.callbacks.ModelCheckpoint(\"/Users/giacomosantoni/Desktop/TESI/Progetto_ML/blindcams/ultima_versione_buoni/tf_model_new/cams_model_new.keras\")]\n",
    "history = model.fit(train_ds_aug, train_labels_aug, validation_data= (val_ds, val_labels), epochs=epochs, batch_size=32, class_weight=weights_classes)"
   ]
  },
  {
   "cell_type": "code",
   "execution_count": 40,
   "metadata": {},
   "outputs": [],
   "source": [
    "saved_model = model.save(\"/Users/giacomosantoni/Desktop/TESI/Progetto_ML/blindcams/ultima_versione_buoni/tf_model_new/cams_model_aug2_last.keras\")"
   ]
  },
  {
   "cell_type": "code",
   "execution_count": 41,
   "metadata": {},
   "outputs": [
    {
     "name": "stdout",
     "output_type": "stream",
     "text": [
      "33/33 [==============================] - 0s 2ms/step\n"
     ]
    }
   ],
   "source": [
    "predictions_val = model.predict(val_ds)\n",
    "predictions = np.squeeze(predictions_val)\n",
    "\n",
    "i = 0\n",
    "predictions_val_approx = []\n",
    "for value in predictions:\n",
    "    value_approx = int(round(value,0))\n",
    "    predictions_val_approx.append(value_approx)\n",
    "\n",
    "predictions_val_approx = np.asarray(predictions_val_approx)"
   ]
  },
  {
   "cell_type": "code",
   "execution_count": 42,
   "metadata": {},
   "outputs": [
    {
     "name": "stdout",
     "output_type": "stream",
     "text": [
      "[[   2    0]\n",
      " [   0 1026]]\n"
     ]
    },
    {
     "data": {
      "image/png": "[encoded data removed]",
      "text/plain": [
       "<Figure size 640x480 with 2 Axes>"
      ]
     },
     "metadata": {},
     "output_type": "display_data"
    }
   ],
   "source": [
    "from sklearn import metrics\n",
    "\n",
    "cm = metrics.confusion_matrix(val_labels, predictions_val_approx)\n",
    "print(cm)\n",
    "cm_display = metrics.ConfusionMatrixDisplay(cm).plot()"
   ]
  },
  {
   "cell_type": "code",
   "execution_count": 43,
   "metadata": {},
   "outputs": [
    {
     "data": {
      "text/plain": [
       "(10174, 32, 32, 1)"
      ]
     },
     "execution_count": 43,
     "metadata": {},
     "output_type": "execute_result"
    }
   ],
   "source": [
    "test_ds.shape"
   ]
  },
  {
   "cell_type": "code",
   "execution_count": 44,
   "metadata": {},
   "outputs": [
    {
     "ename": "AttributeError",
     "evalue": "'Adam' object has no attribute 'build'",
     "output_type": "error",
     "traceback": [
      "\u001b[0;31m---------------------------------------------------------------------------\u001b[0m",
      "\u001b[0;31mAttributeError\u001b[0m                            Traceback (most recent call last)",
      "\u001b[1;32m/Users/giacomosantoni/Desktop/TESI/Progetto_ML/blindcams/ultima_versione_buoni/ml_robustscaler_bestever_newdata.ipynb Cell 46\u001b[0m line \u001b[0;36m1\n\u001b[0;32m----> <a href='vscode-notebook-cell:/Users/giacomosantoni/Desktop/TESI/Progetto_ML/blindcams/ultima_versione_buoni/ml_robustscaler_bestever_newdata.ipynb#X63sZmlsZQ%3D%3D?line=0'>1</a>\u001b[0m old_model \u001b[39m=\u001b[39m models\u001b[39m.\u001b[39;49mload_model(\u001b[39m\"\u001b[39;49m\u001b[39m/Users/giacomosantoni/Desktop/TESI/Progetto_ML/blindcams/ultima_versione_buoni/tf_model_new/good_models/cams_model_bestever_newdata.keras\u001b[39;49m\u001b[39m\"\u001b[39;49m)\n",
      "File \u001b[0;32m/opt/homebrew/lib/python3.11/site-packages/keras/src/saving/saving_api.py:254\u001b[0m, in \u001b[0;36mload_model\u001b[0;34m(filepath, custom_objects, compile, safe_mode, **kwargs)\u001b[0m\n\u001b[1;32m    249\u001b[0m     \u001b[39mif\u001b[39;00m kwargs:\n\u001b[1;32m    250\u001b[0m         \u001b[39mraise\u001b[39;00m \u001b[39mValueError\u001b[39;00m(\n\u001b[1;32m    251\u001b[0m             \u001b[39m\"\u001b[39m\u001b[39mThe following argument(s) are not supported \u001b[39m\u001b[39m\"\u001b[39m\n\u001b[1;32m    252\u001b[0m             \u001b[39mf\u001b[39m\u001b[39m\"\u001b[39m\u001b[39mwith the native Keras format: \u001b[39m\u001b[39m{\u001b[39;00m\u001b[39mlist\u001b[39m(kwargs\u001b[39m.\u001b[39mkeys())\u001b[39m}\u001b[39;00m\u001b[39m\"\u001b[39m\n\u001b[1;32m    253\u001b[0m         )\n\u001b[0;32m--> 254\u001b[0m     \u001b[39mreturn\u001b[39;00m saving_lib\u001b[39m.\u001b[39;49mload_model(\n\u001b[1;32m    255\u001b[0m         filepath,\n\u001b[1;32m    256\u001b[0m         custom_objects\u001b[39m=\u001b[39;49mcustom_objects,\n\u001b[1;32m    257\u001b[0m         \u001b[39mcompile\u001b[39;49m\u001b[39m=\u001b[39;49m\u001b[39mcompile\u001b[39;49m,\n\u001b[1;32m    258\u001b[0m         safe_mode\u001b[39m=\u001b[39;49msafe_mode,\n\u001b[1;32m    259\u001b[0m     )\n\u001b[1;32m    261\u001b[0m \u001b[39m# Legacy case.\u001b[39;00m\n\u001b[1;32m    262\u001b[0m \u001b[39mreturn\u001b[39;00m legacy_sm_saving_lib\u001b[39m.\u001b[39mload_model(\n\u001b[1;32m    263\u001b[0m     filepath, custom_objects\u001b[39m=\u001b[39mcustom_objects, \u001b[39mcompile\u001b[39m\u001b[39m=\u001b[39m\u001b[39mcompile\u001b[39m, \u001b[39m*\u001b[39m\u001b[39m*\u001b[39mkwargs\n\u001b[1;32m    264\u001b[0m )\n",
      "File \u001b[0;32m/opt/homebrew/lib/python3.11/site-packages/keras/src/saving/saving_lib.py:281\u001b[0m, in \u001b[0;36mload_model\u001b[0;34m(filepath, custom_objects, compile, safe_mode)\u001b[0m\n\u001b[1;32m    278\u001b[0m             asset_store\u001b[39m.\u001b[39mclose()\n\u001b[1;32m    280\u001b[0m \u001b[39mexcept\u001b[39;00m \u001b[39mException\u001b[39;00m \u001b[39mas\u001b[39;00m e:\n\u001b[0;32m--> 281\u001b[0m     \u001b[39mraise\u001b[39;00m e\n\u001b[1;32m    282\u001b[0m \u001b[39melse\u001b[39;00m:\n\u001b[1;32m    283\u001b[0m     \u001b[39mreturn\u001b[39;00m model\n",
      "File \u001b[0;32m/opt/homebrew/lib/python3.11/site-packages/keras/src/saving/saving_lib.py:246\u001b[0m, in \u001b[0;36mload_model\u001b[0;34m(filepath, custom_objects, compile, safe_mode)\u001b[0m\n\u001b[1;32m    244\u001b[0m \u001b[39m# Construct the model from the configuration file in the archive.\u001b[39;00m\n\u001b[1;32m    245\u001b[0m \u001b[39mwith\u001b[39;00m ObjectSharingScope():\n\u001b[0;32m--> 246\u001b[0m     model \u001b[39m=\u001b[39m deserialize_keras_object(\n\u001b[1;32m    247\u001b[0m         config_dict, custom_objects, safe_mode\u001b[39m=\u001b[39;49msafe_mode\n\u001b[1;32m    248\u001b[0m     )\n\u001b[1;32m    250\u001b[0m all_filenames \u001b[39m=\u001b[39m zf\u001b[39m.\u001b[39mnamelist()\n\u001b[1;32m    251\u001b[0m \u001b[39mif\u001b[39;00m _VARS_FNAME \u001b[39m+\u001b[39m \u001b[39m\"\u001b[39m\u001b[39m.h5\u001b[39m\u001b[39m\"\u001b[39m \u001b[39min\u001b[39;00m all_filenames:\n",
      "File \u001b[0;32m/opt/homebrew/lib/python3.11/site-packages/keras/src/saving/serialization_lib.py:734\u001b[0m, in \u001b[0;36mdeserialize_keras_object\u001b[0;34m(config, custom_objects, safe_mode, **kwargs)\u001b[0m\n\u001b[1;32m    732\u001b[0m     compile_config \u001b[39m=\u001b[39m config\u001b[39m.\u001b[39mget(\u001b[39m\"\u001b[39m\u001b[39mcompile_config\u001b[39m\u001b[39m\"\u001b[39m, \u001b[39mNone\u001b[39;00m)\n\u001b[1;32m    733\u001b[0m     \u001b[39mif\u001b[39;00m compile_config:\n\u001b[0;32m--> 734\u001b[0m         instance\u001b[39m.\u001b[39;49mcompile_from_config(compile_config)\n\u001b[1;32m    736\u001b[0m \u001b[39mif\u001b[39;00m \u001b[39m\"\u001b[39m\u001b[39mshared_object_id\u001b[39m\u001b[39m\"\u001b[39m \u001b[39min\u001b[39;00m config:\n\u001b[1;32m    737\u001b[0m     record_object_after_deserialization(\n\u001b[1;32m    738\u001b[0m         instance, config[\u001b[39m\"\u001b[39m\u001b[39mshared_object_id\u001b[39m\u001b[39m\"\u001b[39m]\n\u001b[1;32m    739\u001b[0m     )\n",
      "File \u001b[0;32m/opt/homebrew/lib/python3.11/site-packages/keras/src/engine/training.py:3661\u001b[0m, in \u001b[0;36mModel.compile_from_config\u001b[0;34m(self, config)\u001b[0m\n\u001b[1;32m   3658\u001b[0m \u001b[39mself\u001b[39m\u001b[39m.\u001b[39mcompile(\u001b[39m*\u001b[39m\u001b[39m*\u001b[39mconfig)\n\u001b[1;32m   3659\u001b[0m \u001b[39mif\u001b[39;00m \u001b[39mhasattr\u001b[39m(\u001b[39mself\u001b[39m, \u001b[39m\"\u001b[39m\u001b[39moptimizer\u001b[39m\u001b[39m\"\u001b[39m) \u001b[39mand\u001b[39;00m \u001b[39mself\u001b[39m\u001b[39m.\u001b[39mbuilt:\n\u001b[1;32m   3660\u001b[0m     \u001b[39m# Create optimizer variables.\u001b[39;00m\n\u001b[0;32m-> 3661\u001b[0m     \u001b[39mself\u001b[39;49m\u001b[39m.\u001b[39;49moptimizer\u001b[39m.\u001b[39;49mbuild(\u001b[39mself\u001b[39m\u001b[39m.\u001b[39mtrainable_variables)\n",
      "File \u001b[0;32m/opt/homebrew/lib/python3.11/site-packages/keras/src/optimizers/legacy/optimizer_v2.py:997\u001b[0m, in \u001b[0;36mOptimizerV2.__getattribute__\u001b[0;34m(self, name)\u001b[0m\n\u001b[1;32m    995\u001b[0m \u001b[39mif\u001b[39;00m name \u001b[39min\u001b[39;00m \u001b[39mself\u001b[39m\u001b[39m.\u001b[39m_hyper:\n\u001b[1;32m    996\u001b[0m     \u001b[39mreturn\u001b[39;00m \u001b[39mself\u001b[39m\u001b[39m.\u001b[39m_get_hyper(name)\n\u001b[0;32m--> 997\u001b[0m \u001b[39mraise\u001b[39;00m e\n",
      "File \u001b[0;32m/opt/homebrew/lib/python3.11/site-packages/keras/src/optimizers/legacy/optimizer_v2.py:987\u001b[0m, in \u001b[0;36mOptimizerV2.__getattribute__\u001b[0;34m(self, name)\u001b[0m\n\u001b[1;32m    985\u001b[0m \u001b[39m\u001b[39m\u001b[39m\"\"\"Overridden to support hyperparameter access.\"\"\"\u001b[39;00m\n\u001b[1;32m    986\u001b[0m \u001b[39mtry\u001b[39;00m:\n\u001b[0;32m--> 987\u001b[0m     \u001b[39mreturn\u001b[39;00m \u001b[39msuper\u001b[39;49m()\u001b[39m.\u001b[39;49m\u001b[39m__getattribute__\u001b[39;49m(name)\n\u001b[1;32m    988\u001b[0m \u001b[39mexcept\u001b[39;00m \u001b[39mAttributeError\u001b[39;00m \u001b[39mas\u001b[39;00m e:\n\u001b[1;32m    989\u001b[0m     \u001b[39m# Needed to avoid infinite recursion with __setattr__.\u001b[39;00m\n\u001b[1;32m    990\u001b[0m     \u001b[39mif\u001b[39;00m name \u001b[39m==\u001b[39m \u001b[39m\"\u001b[39m\u001b[39m_hyper\u001b[39m\u001b[39m\"\u001b[39m:\n",
      "\u001b[0;31mAttributeError\u001b[0m: 'Adam' object has no attribute 'build'"
     ]
    }
   ],
   "source": [
    "old_model = models.load_model(\"/Users/giacomosantoni/Desktop/TESI/Progetto_ML/blindcams/ultima_versione_buoni/tf_model_new/good_models/cams_model_bestever_newdata.keras\")"
   ]
  },
  {
   "cell_type": "code",
   "execution_count": null,
   "metadata": {},
   "outputs": [
    {
     "name": "stdout",
     "output_type": "stream",
     "text": [
      "318/318 [==============================] - 1s 2ms/step\n"
     ]
    }
   ],
   "source": [
    "test_ds = test_ds.reshape(test_ds.shape[0], 32, 32, 1)\n",
    "predictions_test = model.predict(test_ds)\n",
    "predictions = np.squeeze(predictions_test)\n",
    "\n",
    "i = 0\n",
    "predictions_test_approx = []\n",
    "for value in predictions:\n",
    "    value_approx = int(round(value,0))\n",
    "    predictions_test_approx.append(value_approx)\n",
    "\n",
    "predictions_test_approx = np.asarray(predictions_test_approx)"
   ]
  },
  {
   "cell_type": "code",
   "execution_count": null,
   "metadata": {},
   "outputs": [
    {
     "name": "stdout",
     "output_type": "stream",
     "text": [
      "[[   18    15]\n",
      " [   12 10129]]\n"
     ]
    },
    {
     "data": {
      "image/png": "[encoded data removed]",
      "text/plain": [
       "<Figure size 640x480 with 2 Axes>"
      ]
     },
     "metadata": {},
     "output_type": "display_data"
    }
   ],
   "source": [
    "cm = metrics.confusion_matrix(test_labels, predictions_test_approx)\n",
    "print(cm)\n",
    "cm_display = metrics.ConfusionMatrixDisplay(cm).plot()"
   ]
  },
  {
   "cell_type": "code",
   "execution_count": null,
   "metadata": {},
   "outputs": [
    {
     "data": {
      "text/plain": [
       "0.9986689672171556"
      ]
     },
     "execution_count": 72,
     "metadata": {},
     "output_type": "execute_result"
    }
   ],
   "source": [
    "F1 = metrics.f1_score(test_labels, predictions_test_approx, average = 'binary')\n",
    "F1"
   ]
  }
 ],
 "metadata": {
  "kernelspec": {
   "display_name": "Python 3",
   "language": "python",
   "name": "python3"
  },
  "language_info": {
   "codemirror_mode": {
    "name": "ipython",
    "version": 3
   },
   "file_extension": ".py",
   "mimetype": "text/x-python",
   "name": "python",
   "nbconvert_exporter": "python",
   "pygments_lexer": "ipython3",
   "version": "3.11.6"
  },
  "orig_nbformat": 4
 },
 "nbformat": 4,
 "nbformat_minor": 2
}
