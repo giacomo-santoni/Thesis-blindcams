{
 "cells": [
  {
   "cell_type": "code",
   "execution_count": 1,
   "metadata": {},
   "outputs": [
    {
     "name": "stdout",
     "output_type": "stream",
     "text": [
      "Welcome to JupyROOT 6.28/04\n"
     ]
    }
   ],
   "source": [
    "import Preprocessing_aug_prova2 as prep\n",
    "import RootPreprocessing_new as rooprep\n",
    "import numpy as np\n",
    "import matplotlib.pyplot as plt"
   ]
  },
  {
   "cell_type": "code",
   "execution_count": 2,
   "metadata": {},
   "outputs": [],
   "source": [
    "file_drdf_list = [\"/Users/giacomosantoni/Desktop/TESI/Progetto_ML/blindcams/data/initial_data_good/response.drdf\",\"/Users/giacomosantoni/Desktop/TESI/Progetto_ML/blindcams/data/new_data/response_pde25.drdf\",\"/Users/giacomosantoni/Desktop/TESI/Progetto_ML/blindcams/data/new_data2/response.drdf\",\"/Users/giacomosantoni/Desktop/TESI/Progetto_ML/blindcams/data/new_data3/response.drdf\"]\n",
    "file_root_list = [\"/Users/giacomosantoni/Desktop/TESI/Progetto_ML/blindcams/data/initial_data_good/sensors.root\",\"/Users/giacomosantoni/Desktop/TESI/Progetto_ML/blindcams/data/new_data/sensors_pde25.root\",\"/Users/giacomosantoni/Desktop/TESI/Progetto_ML/blindcams/data/new_data2/sensors.root\",\"/Users/giacomosantoni/Desktop/TESI/Progetto_ML/blindcams/data/new_data3/sensors.root\"]"
   ]
  },
  {
   "cell_type": "code",
   "execution_count": 3,
   "metadata": {},
   "outputs": [],
   "source": [
    "all_images1 = prep.PreprocessNotScaled(file_drdf_list[0])\n",
    "all_images2 = prep.PreprocessNotScaled(file_drdf_list[1])\n",
    "all_images3 = prep.PreprocessNotScaled(file_drdf_list[2])\n",
    "all_images4 = prep.PreprocessNotScaled(file_drdf_list[3])\n",
    "\n",
    "all_images = np.concatenate((all_images1,all_images2,all_images3,all_images4), axis=0)"
   ]
  },
  {
   "cell_type": "code",
   "execution_count": 4,
   "metadata": {},
   "outputs": [],
   "source": [
    "root1 = rooprep.RootPreprocessing(file_root_list[0], file_drdf_list[0])\n",
    "root2 = rooprep.RootPreprocessing(file_root_list[1], file_drdf_list[1])\n",
    "root3 = rooprep.RootPreprocessing(file_root_list[2], file_drdf_list[2])\n",
    "root4 = rooprep.RootPreprocessing(file_root_list[3], file_drdf_list[3])"
   ]
  },
  {
   "cell_type": "code",
   "execution_count": 5,
   "metadata": {},
   "outputs": [],
   "source": [
    "all_root = np.concatenate((root1,root2,root3,root4), axis=0)"
   ]
  },
  {
   "cell_type": "code",
   "execution_count": 6,
   "metadata": {},
   "outputs": [],
   "source": [
    "nr_blind_ev, blind_ev = prep.FindBlindEvents(file_root_list[0],file_drdf_list[0])"
   ]
  },
  {
   "cell_type": "code",
   "execution_count": 7,
   "metadata": {},
   "outputs": [],
   "source": [
    "def FindNotBlindEvents(rname,fname):\n",
    "    ev_cam_state = rooprep.RootPreprocessing(rname,fname)\n",
    "    data_prep = prep.Preprocessing(fname)\n",
    "    n = 0\n",
    "    nr_not_blind_events = []\n",
    "    not_blind_events = []\n",
    "    for i in ev_cam_state:\n",
    "        if i == 0:\n",
    "            nr_not_blind_events.append(n)\n",
    "        n+=1\n",
    "    for i in nr_not_blind_events:\n",
    "        not_blind_events.append(data_prep[i])\n",
    "    return nr_not_blind_events, not_blind_events"
   ]
  },
  {
   "cell_type": "code",
   "execution_count": 8,
   "metadata": {},
   "outputs": [],
   "source": [
    "nr_not_blind_events, not_blind_events = FindNotBlindEvents(file_root_list[0], file_drdf_list[0])"
   ]
  },
  {
   "cell_type": "code",
   "execution_count": 9,
   "metadata": {},
   "outputs": [
    {
     "data": {
      "text/plain": [
       "(57718, 32, 32, 1)"
      ]
     },
     "execution_count": 9,
     "metadata": {},
     "output_type": "execute_result"
    }
   ],
   "source": [
    "all_ft_im = []\n",
    "for i in blind_ev:\n",
    "    ft_im = np.fft.fftshift(np.fft.fft2(i))\n",
    "    all_ft_im.append(ft_im)\n",
    "\n",
    "all_ft_im = np.asarray(all_ft_im)\n",
    "all_ft_im.shape\n",
    "\n",
    "\n",
    "not_blind_all_ft_im = []\n",
    "for i in not_blind_events:\n",
    "    ft_im = np.fft.fftshift(np.fft.fft2(i))\n",
    "    not_blind_all_ft_im.append(ft_im)\n",
    "\n",
    "not_blind_all_ft_im = np.asarray(not_blind_all_ft_im)\n",
    "not_blind_all_ft_im.shape"
   ]
  },
  {
   "cell_type": "code",
   "execution_count": 97,
   "metadata": {},
   "outputs": [
    {
     "name": "stdout",
     "output_type": "stream",
     "text": [
      "4.801623716838096\n"
     ]
    },
    {
     "data": {
      "text/plain": [
       "array([4.21529421])"
      ]
     },
     "execution_count": 97,
     "metadata": {},
     "output_type": "execute_result"
    }
   ],
   "source": [
    "print(np.max(np.log(abs(all_ft_im[0]))))\n",
    "np.log(abs(all_ft_im[0][27][18]))"
   ]
  },
  {
   "cell_type": "code",
   "execution_count": null,
   "metadata": {},
   "outputs": [],
   "source": [
    "for i in blind_ev:\n",
    "    ft = np.fft.fftshift(np.fft.fft2(i))\n",
    "    plt.figure(num=None, figsize=(8, 6), dpi=80)\n",
    "    plt.imshow(i)\n",
    "    plt.colorbar()\n",
    "    plt.show()\n",
    "    plt.imshow(np.log(abs(ft)), cmap='gray')\n",
    "    plt.colorbar()\n",
    "    plt.show()\n",
    "    \n",
    "# for i in not_blind_events:\n",
    "#     ft = np.fft.fftshift(np.fft.fft2(i))\n",
    "#     plt.figure(num=None, figsize=(8, 6), dpi=80)\n",
    "#     plt.imshow(i)\n",
    "#     plt.colorbar()\n",
    "#     plt.show()\n",
    "#     plt.imshow((abs(ft)), cmap='gray')\n",
    "#     plt.colorbar()\n",
    "#     plt.show()"
   ]
  },
  {
   "cell_type": "code",
   "execution_count": 105,
   "metadata": {},
   "outputs": [],
   "source": [
    "# def Histo3d(array):\n",
    "#     num_bins = 32\n",
    "#     hist, bin_edges_x, bin_edges_y = np.histogram2d(array.flatten(), array.flatten(), bins=num_bins, range=[[0, 32], [0, 32]])\n",
    "\n",
    "#     # Crea una meshgrid di coordinate\n",
    "#     x, y = np.meshgrid(bin_edges_x[:-1], bin_edges_y[:-1])\n",
    "\n",
    "#     fig = plt.figure()\n",
    "#     ax = fig.add_subplot(111, projection='3d')\n",
    "\n",
    "#     # Plot dell'istogramma 3D\n",
    "#     ax.bar3d(x.ravel(), y.ravel(), np.zeros_like(hist).ravel(), 1, 1, hist.ravel(), shade=True) #color=cmap(hist.ravel()/hist.max()))\n",
    "\n",
    "#     plt.show()"
   ]
  },
  {
   "cell_type": "code",
   "execution_count": 106,
   "metadata": {},
   "outputs": [],
   "source": [
    "# for i in not_blind_events:\n",
    "#     not_blind = np.fft.fftshift(i)\n",
    "#     Histo3d(np.log(abs(not_blind)))\n",
    "\n",
    "# # for i in all_ft_im:\n",
    "# #     Histo3d(np.log(abs(i)))\n",
    "# #     plt.imshow(np.log(abs(i)))\n",
    "# #     plt.colorbar()\n",
    "# #     plt.show()"
   ]
  }
 ],
 "metadata": {
  "kernelspec": {
   "display_name": "Python 3",
   "language": "python",
   "name": "python3"
  },
  "language_info": {
   "codemirror_mode": {
    "name": "ipython",
    "version": 3
   },
   "file_extension": ".py",
   "mimetype": "text/x-python",
   "name": "python",
   "nbconvert_exporter": "python",
   "pygments_lexer": "ipython3",
   "version": "3.11.4"
  },
  "orig_nbformat": 4
 },
 "nbformat": 4,
 "nbformat_minor": 2
}
